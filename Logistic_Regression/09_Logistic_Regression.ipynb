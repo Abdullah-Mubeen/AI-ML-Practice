{
 "cells": [
  {
   "cell_type": "markdown",
   "metadata": {
    "id": "zFcQWfn3ot8Z"
   },
   "source": [
    "## **Logistic Regression**\n",
    "\n",
    "Logistic regression is a statistical model that in its basic form uses a logistic function to model a binary dependent variable, although many more complex extensions exist. In regression analysis, logistic regression (or logit regression) is estimating the parameters of a logistic model (a form of binary regression).\n",
    "\n",
    "For Example: spam detection for emails, predicting if a customer will default in a loan, etc.\n",
    "\n",
    "\n",
    "<img src = \"https://static.javatpoint.com/tutorial/machine-learning/images/linear-regression-vs-logistic-regression.png\">"
   ]
  },
  {
   "cell_type": "markdown",
   "metadata": {},
   "source": [
    "Logistic regression is a supervised machine learning algorithm that accomplishes binary classification tasks by predicting the probability of an outcome, event, or observation"
   ]
  },
  {
   "cell_type": "markdown",
   "metadata": {},
   "source": [
    "Determine the probability of heart attacks: With the help of a logistic model, medical practitioners can determine the relationship between variables such as the weight, exercise, etc., of an individual and use it to predict whether the person will suffer from a heart attack or any other medical complication.\n",
    "\n",
    "<img src = \"./img.png\">"
   ]
  },
  {
   "cell_type": "markdown",
   "metadata": {},
   "source": [
    "<img src=\"image_2.png\">"
   ]
  },
  {
   "cell_type": "markdown",
   "metadata": {},
   "source": [
    "### Decision Boundary\n",
    "\n",
    "The sigmoid function returns a probability value between 0 and 1. This probability value is then mapped to a discrete class, which is either “0” or “1”. In order to map this probability value to a discrete class (e.g., pass/fail, yes/no, true/false), we select a threshold value. This threshold value is called the **decision boundary**. \n",
    "\n",
    "Above this threshold value, we map the probability values to class 1, and below it, we map values to class 0.\n",
    "\n",
    "Mathematically, it can be expressed as follows:\n",
    "\n",
    "p ≥ 0.5 => class = 1\n",
    "\n",
    "p < 0.5 => class = 0\n",
    "\n",
    "\n",
    "\n",
    "Generally, the decision boundary is set to 0.5. So, if the probability value is 0.8 (> 0.5), we map this observation to class 1. Similarly, if the probability value is 0.2 (< 0.5), we map this observation to class 0.\n"
   ]
  },
  {
   "cell_type": "markdown",
   "metadata": {
    "id": "4qxiH7SDot_n"
   },
   "source": [
    "## **Geting Started with Logistic Regression**"
   ]
  },
  {
   "cell_type": "code",
   "execution_count": 25,
   "metadata": {},
   "outputs": [],
   "source": [
    "import pandas as pd\n",
    "from matplotlib import pyplot as plt"
   ]
  },
  {
   "cell_type": "code",
   "execution_count": null,
   "metadata": {},
   "outputs": [],
   "source": []
  },
  {
   "cell_type": "code",
   "execution_count": 26,
   "metadata": {},
   "outputs": [
    {
     "data": {
      "text/html": [
       "<div>\n",
       "<style scoped>\n",
       "    .dataframe tbody tr th:only-of-type {\n",
       "        vertical-align: middle;\n",
       "    }\n",
       "\n",
       "    .dataframe tbody tr th {\n",
       "        vertical-align: top;\n",
       "    }\n",
       "\n",
       "    .dataframe thead th {\n",
       "        text-align: right;\n",
       "    }\n",
       "</style>\n",
       "<table border=\"1\" class=\"dataframe\">\n",
       "  <thead>\n",
       "    <tr style=\"text-align: right;\">\n",
       "      <th></th>\n",
       "      <th>age</th>\n",
       "      <th>bought_insurance</th>\n",
       "    </tr>\n",
       "  </thead>\n",
       "  <tbody>\n",
       "    <tr>\n",
       "      <th>0</th>\n",
       "      <td>22</td>\n",
       "      <td>0</td>\n",
       "    </tr>\n",
       "    <tr>\n",
       "      <th>1</th>\n",
       "      <td>25</td>\n",
       "      <td>0</td>\n",
       "    </tr>\n",
       "    <tr>\n",
       "      <th>2</th>\n",
       "      <td>47</td>\n",
       "      <td>1</td>\n",
       "    </tr>\n",
       "    <tr>\n",
       "      <th>3</th>\n",
       "      <td>52</td>\n",
       "      <td>0</td>\n",
       "    </tr>\n",
       "    <tr>\n",
       "      <th>4</th>\n",
       "      <td>46</td>\n",
       "      <td>1</td>\n",
       "    </tr>\n",
       "  </tbody>\n",
       "</table>\n",
       "</div>"
      ],
      "text/plain": [
       "   age  bought_insurance\n",
       "0   22                 0\n",
       "1   25                 0\n",
       "2   47                 1\n",
       "3   52                 0\n",
       "4   46                 1"
      ]
     },
     "execution_count": 26,
     "metadata": {},
     "output_type": "execute_result"
    }
   ],
   "source": [
    "df = pd.read_csv(\"insurance_data.csv\")\n",
    "df.head()"
   ]
  },
  {
   "cell_type": "code",
   "execution_count": 27,
   "metadata": {},
   "outputs": [
    {
     "data": {
      "image/png": "[encoded data removed]",
      "text/plain": [
       "<Figure size 640x480 with 1 Axes>"
      ]
     },
     "metadata": {},
     "output_type": "display_data"
    }
   ],
   "source": [
    "plt.scatter(df.age, df.bought_insurance, marker='+', color='red')\n",
    "plt.title(\"Insurance Purchase by Age\")\n",
    "plt.xlabel(\"Age\")\n",
    "plt.ylabel(\"Bought Insurance (1 = Yes, 0 = No)\")\n",
    "plt.show()\n"
   ]
  },
  {
   "cell_type": "markdown",
   "metadata": {},
   "source": [
    "<img src=\"./image5.png\">"
   ]
  },
  {
   "cell_type": "code",
   "execution_count": 28,
   "metadata": {},
   "outputs": [],
   "source": [
    "from sklearn.model_selection import train_test_split\n",
    "X_train, X_test, y_train, y_test = train_test_split(df[['age']],df.bought_insurance,train_size=0.8)\n"
   ]
  },
  {
   "cell_type": "code",
   "execution_count": 29,
   "metadata": {},
   "outputs": [
    {
     "data": {
      "text/html": [
       "<div>\n",
       "<style scoped>\n",
       "    .dataframe tbody tr th:only-of-type {\n",
       "        vertical-align: middle;\n",
       "    }\n",
       "\n",
       "    .dataframe tbody tr th {\n",
       "        vertical-align: top;\n",
       "    }\n",
       "\n",
       "    .dataframe thead th {\n",
       "        text-align: right;\n",
       "    }\n",
       "</style>\n",
       "<table border=\"1\" class=\"dataframe\">\n",
       "  <thead>\n",
       "    <tr style=\"text-align: right;\">\n",
       "      <th></th>\n",
       "      <th>age</th>\n",
       "    </tr>\n",
       "  </thead>\n",
       "  <tbody>\n",
       "    <tr>\n",
       "      <th>26</th>\n",
       "      <td>23</td>\n",
       "    </tr>\n",
       "    <tr>\n",
       "      <th>17</th>\n",
       "      <td>58</td>\n",
       "    </tr>\n",
       "    <tr>\n",
       "      <th>5</th>\n",
       "      <td>56</td>\n",
       "    </tr>\n",
       "    <tr>\n",
       "      <th>23</th>\n",
       "      <td>45</td>\n",
       "    </tr>\n",
       "    <tr>\n",
       "      <th>7</th>\n",
       "      <td>60</td>\n",
       "    </tr>\n",
       "    <tr>\n",
       "      <th>24</th>\n",
       "      <td>50</td>\n",
       "    </tr>\n",
       "  </tbody>\n",
       "</table>\n",
       "</div>"
      ],
      "text/plain": [
       "    age\n",
       "26   23\n",
       "17   58\n",
       "5    56\n",
       "23   45\n",
       "7    60\n",
       "24   50"
      ]
     },
     "execution_count": 29,
     "metadata": {},
     "output_type": "execute_result"
    }
   ],
   "source": [
    "X_test"
   ]
  },
  {
   "cell_type": "code",
   "execution_count": 30,
   "metadata": {},
   "outputs": [],
   "source": [
    "from sklearn.linear_model import LogisticRegression\n",
    "model = LogisticRegression()"
   ]
  },
  {
   "cell_type": "code",
   "execution_count": 31,
   "metadata": {},
   "outputs": [
    {
     "data": {
      "text/html": [
       "<style>#sk-container-id-2 {\n",
       "  /* Definition of color scheme common for light and dark mode */\n",
       "  --sklearn-color-text: black;\n",
       "  --sklearn-color-line: gray;\n",
       "  /* Definition of color scheme for unfitted estimators */\n",
       "  --sklearn-color-unfitted-level-0: #fff5e6;\n",
       "  --sklearn-color-unfitted-level-1: #f6e4d2;\n",
       "  --sklearn-color-unfitted-level-2: #ffe0b3;\n",
       "  --sklearn-color-unfitted-level-3: chocolate;\n",
       "  /* Definition of color scheme for fitted estimators */\n",
       "  --sklearn-color-fitted-level-0: #f0f8ff;\n",
       "  --sklearn-color-fitted-level-1: #d4ebff;\n",
       "  --sklearn-color-fitted-level-2: #b3dbfd;\n",
       "  --sklearn-color-fitted-level-3: cornflowerblue;\n",
       "\n",
       "  /* Specific color for light theme */\n",
       "  --sklearn-color-text-on-default-background: var(--sg-text-color, var(--theme-code-foreground, var(--jp-content-font-color1, black)));\n",
       "  --sklearn-color-background: var(--sg-background-color, var(--theme-background, var(--jp-layout-color0, white)));\n",
       "  --sklearn-color-border-box: var(--sg-text-color, var(--theme-code-foreground, var(--jp-content-font-color1, black)));\n",
       "  --sklearn-color-icon: #696969;\n",
       "\n",
       "  @media (prefers-color-scheme: dark) {\n",
       "    /* Redefinition of color scheme for dark theme */\n",
       "    --sklearn-color-text-on-default-background: var(--sg-text-color, var(--theme-code-foreground, var(--jp-content-font-color1, white)));\n",
       "    --sklearn-color-background: var(--sg-background-color, var(--theme-background, var(--jp-layout-color0, #111)));\n",
       "    --sklearn-color-border-box: var(--sg-text-color, var(--theme-code-foreground, var(--jp-content-font-color1, white)));\n",
       "    --sklearn-color-icon: #878787;\n",
       "  }\n",
       "}\n",
       "\n",
       "#sk-container-id-2 {\n",
       "  color: var(--sklearn-color-text);\n",
       "}\n",
       "\n",
       "#sk-container-id-2 pre {\n",
       "  padding: 0;\n",
       "}\n",
       "\n",
       "#sk-container-id-2 input.sk-hidden--visually {\n",
       "  border: 0;\n",
       "  clip: rect(1px 1px 1px 1px);\n",
       "  clip: rect(1px, 1px, 1px, 1px);\n",
       "  height: 1px;\n",
       "  margin: -1px;\n",
       "  overflow: hidden;\n",
       "  padding: 0;\n",
       "  position: absolute;\n",
       "  width: 1px;\n",
       "}\n",
       "\n",
       "#sk-container-id-2 div.sk-dashed-wrapped {\n",
       "  border: 1px dashed var(--sklearn-color-line);\n",
       "  margin: 0 0.4em 0.5em 0.4em;\n",
       "  box-sizing: border-box;\n",
       "  padding-bottom: 0.4em;\n",
       "  background-color: var(--sklearn-color-background);\n",
       "}\n",
       "\n",
       "#sk-container-id-2 div.sk-container {\n",
       "  /* jupyter's `normalize.less` sets `[hidden] { display: none; }`\n",
       "     but bootstrap.min.css set `[hidden] { display: none !important; }`\n",
       "     so we also need the `!important` here to be able to override the\n",
       "     default hidden behavior on the sphinx rendered scikit-learn.org.\n",
       "     See: https://github.com/scikit-learn/scikit-learn/issues/21755 */\n",
       "  display: inline-block !important;\n",
       "  position: relative;\n",
       "}\n",
       "\n",
       "#sk-container-id-2 div.sk-text-repr-fallback {\n",
       "  display: none;\n",
       "}\n",
       "\n",
       "div.sk-parallel-item,\n",
       "div.sk-serial,\n",
       "div.sk-item {\n",
       "  /* draw centered vertical line to link estimators */\n",
       "  background-image: linear-gradient(var(--sklearn-color-text-on-default-background), var(--sklearn-color-text-on-default-background));\n",
       "  background-size: 2px 100%;\n",
       "  background-repeat: no-repeat;\n",
       "  background-position: center center;\n",
       "}\n",
       "\n",
       "/* Parallel-specific style estimator block */\n",
       "\n",
       "#sk-container-id-2 div.sk-parallel-item::after {\n",
       "  content: \"\";\n",
       "  width: 100%;\n",
       "  border-bottom: 2px solid var(--sklearn-color-text-on-default-background);\n",
       "  flex-grow: 1;\n",
       "}\n",
       "\n",
       "#sk-container-id-2 div.sk-parallel {\n",
       "  display: flex;\n",
       "  align-items: stretch;\n",
       "  justify-content: center;\n",
       "  background-color: var(--sklearn-color-background);\n",
       "  position: relative;\n",
       "}\n",
       "\n",
       "#sk-container-id-2 div.sk-parallel-item {\n",
       "  display: flex;\n",
       "  flex-direction: column;\n",
       "}\n",
       "\n",
       "#sk-container-id-2 div.sk-parallel-item:first-child::after {\n",
       "  align-self: flex-end;\n",
       "  width: 50%;\n",
       "}\n",
       "\n",
       "#sk-container-id-2 div.sk-parallel-item:last-child::after {\n",
       "  align-self: flex-start;\n",
       "  width: 50%;\n",
       "}\n",
       "\n",
       "#sk-container-id-2 div.sk-parallel-item:only-child::after {\n",
       "  width: 0;\n",
       "}\n",
       "\n",
       "/* Serial-specific style estimator block */\n",
       "\n",
       "#sk-container-id-2 div.sk-serial {\n",
       "  display: flex;\n",
       "  flex-direction: column;\n",
       "  align-items: center;\n",
       "  background-color: var(--sklearn-color-background);\n",
       "  padding-right: 1em;\n",
       "  padding-left: 1em;\n",
       "}\n",
       "\n",
       "\n",
       "/* Toggleable style: style used for estimator/Pipeline/ColumnTransformer box that is\n",
       "clickable and can be expanded/collapsed.\n",
       "- Pipeline and ColumnTransformer use this feature and define the default style\n",
       "- Estimators will overwrite some part of the style using the `sk-estimator` class\n",
       "*/\n",
       "\n",
       "/* Pipeline and ColumnTransformer style (default) */\n",
       "\n",
       "#sk-container-id-2 div.sk-toggleable {\n",
       "  /* Default theme specific background. It is overwritten whether we have a\n",
       "  specific estimator or a Pipeline/ColumnTransformer */\n",
       "  background-color: var(--sklearn-color-background);\n",
       "}\n",
       "\n",
       "/* Toggleable label */\n",
       "#sk-container-id-2 label.sk-toggleable__label {\n",
       "  cursor: pointer;\n",
       "  display: block;\n",
       "  width: 100%;\n",
       "  margin-bottom: 0;\n",
       "  padding: 0.5em;\n",
       "  box-sizing: border-box;\n",
       "  text-align: center;\n",
       "}\n",
       "\n",
       "#sk-container-id-2 label.sk-toggleable__label-arrow:before {\n",
       "  /* Arrow on the left of the label */\n",
       "  content: \"▸\";\n",
       "  float: left;\n",
       "  margin-right: 0.25em;\n",
       "  color: var(--sklearn-color-icon);\n",
       "}\n",
       "\n",
       "#sk-container-id-2 label.sk-toggleable__label-arrow:hover:before {\n",
       "  color: var(--sklearn-color-text);\n",
       "}\n",
       "\n",
       "/* Toggleable content - dropdown */\n",
       "\n",
       "#sk-container-id-2 div.sk-toggleable__content {\n",
       "  max-height: 0;\n",
       "  max-width: 0;\n",
       "  overflow: hidden;\n",
       "  text-align: left;\n",
       "  /* unfitted */\n",
       "  background-color: var(--sklearn-color-unfitted-level-0);\n",
       "}\n",
       "\n",
       "#sk-container-id-2 div.sk-toggleable__content.fitted {\n",
       "  /* fitted */\n",
       "  background-color: var(--sklearn-color-fitted-level-0);\n",
       "}\n",
       "\n",
       "#sk-container-id-2 div.sk-toggleable__content pre {\n",
       "  margin: 0.2em;\n",
       "  border-radius: 0.25em;\n",
       "  color: var(--sklearn-color-text);\n",
       "  /* unfitted */\n",
       "  background-color: var(--sklearn-color-unfitted-level-0);\n",
       "}\n",
       "\n",
       "#sk-container-id-2 div.sk-toggleable__content.fitted pre {\n",
       "  /* unfitted */\n",
       "  background-color: var(--sklearn-color-fitted-level-0);\n",
       "}\n",
       "\n",
       "#sk-container-id-2 input.sk-toggleable__control:checked~div.sk-toggleable__content {\n",
       "  /* Expand drop-down */\n",
       "  max-height: 200px;\n",
       "  max-width: 100%;\n",
       "  overflow: auto;\n",
       "}\n",
       "\n",
       "#sk-container-id-2 input.sk-toggleable__control:checked~label.sk-toggleable__label-arrow:before {\n",
       "  content: \"▾\";\n",
       "}\n",
       "\n",
       "/* Pipeline/ColumnTransformer-specific style */\n",
       "\n",
       "#sk-container-id-2 div.sk-label input.sk-toggleable__control:checked~label.sk-toggleable__label {\n",
       "  color: var(--sklearn-color-text);\n",
       "  background-color: var(--sklearn-color-unfitted-level-2);\n",
       "}\n",
       "\n",
       "#sk-container-id-2 div.sk-label.fitted input.sk-toggleable__control:checked~label.sk-toggleable__label {\n",
       "  background-color: var(--sklearn-color-fitted-level-2);\n",
       "}\n",
       "\n",
       "/* Estimator-specific style */\n",
       "\n",
       "/* Colorize estimator box */\n",
       "#sk-container-id-2 div.sk-estimator input.sk-toggleable__control:checked~label.sk-toggleable__label {\n",
       "  /* unfitted */\n",
       "  background-color: var(--sklearn-color-unfitted-level-2);\n",
       "}\n",
       "\n",
       "#sk-container-id-2 div.sk-estimator.fitted input.sk-toggleable__control:checked~label.sk-toggleable__label {\n",
       "  /* fitted */\n",
       "  background-color: var(--sklearn-color-fitted-level-2);\n",
       "}\n",
       "\n",
       "#sk-container-id-2 div.sk-label label.sk-toggleable__label,\n",
       "#sk-container-id-2 div.sk-label label {\n",
       "  /* The background is the default theme color */\n",
       "  color: var(--sklearn-color-text-on-default-background);\n",
       "}\n",
       "\n",
       "/* On hover, darken the color of the background */\n",
       "#sk-container-id-2 div.sk-label:hover label.sk-toggleable__label {\n",
       "  color: var(--sklearn-color-text);\n",
       "  background-color: var(--sklearn-color-unfitted-level-2);\n",
       "}\n",
       "\n",
       "/* Label box, darken color on hover, fitted */\n",
       "#sk-container-id-2 div.sk-label.fitted:hover label.sk-toggleable__label.fitted {\n",
       "  color: var(--sklearn-color-text);\n",
       "  background-color: var(--sklearn-color-fitted-level-2);\n",
       "}\n",
       "\n",
       "/* Estimator label */\n",
       "\n",
       "#sk-container-id-2 div.sk-label label {\n",
       "  font-family: monospace;\n",
       "  font-weight: bold;\n",
       "  display: inline-block;\n",
       "  line-height: 1.2em;\n",
       "}\n",
       "\n",
       "#sk-container-id-2 div.sk-label-container {\n",
       "  text-align: center;\n",
       "}\n",
       "\n",
       "/* Estimator-specific */\n",
       "#sk-container-id-2 div.sk-estimator {\n",
       "  font-family: monospace;\n",
       "  border: 1px dotted var(--sklearn-color-border-box);\n",
       "  border-radius: 0.25em;\n",
       "  box-sizing: border-box;\n",
       "  margin-bottom: 0.5em;\n",
       "  /* unfitted */\n",
       "  background-color: var(--sklearn-color-unfitted-level-0);\n",
       "}\n",
       "\n",
       "#sk-container-id-2 div.sk-estimator.fitted {\n",
       "  /* fitted */\n",
       "  background-color: var(--sklearn-color-fitted-level-0);\n",
       "}\n",
       "\n",
       "/* on hover */\n",
       "#sk-container-id-2 div.sk-estimator:hover {\n",
       "  /* unfitted */\n",
       "  background-color: var(--sklearn-color-unfitted-level-2);\n",
       "}\n",
       "\n",
       "#sk-container-id-2 div.sk-estimator.fitted:hover {\n",
       "  /* fitted */\n",
       "  background-color: var(--sklearn-color-fitted-level-2);\n",
       "}\n",
       "\n",
       "/* Specification for estimator info (e.g. \"i\" and \"?\") */\n",
       "\n",
       "/* Common style for \"i\" and \"?\" */\n",
       "\n",
       ".sk-estimator-doc-link,\n",
       "a:link.sk-estimator-doc-link,\n",
       "a:visited.sk-estimator-doc-link {\n",
       "  float: right;\n",
       "  font-size: smaller;\n",
       "  line-height: 1em;\n",
       "  font-family: monospace;\n",
       "  background-color: var(--sklearn-color-background);\n",
       "  border-radius: 1em;\n",
       "  height: 1em;\n",
       "  width: 1em;\n",
       "  text-decoration: none !important;\n",
       "  margin-left: 1ex;\n",
       "  /* unfitted */\n",
       "  border: var(--sklearn-color-unfitted-level-1) 1pt solid;\n",
       "  color: var(--sklearn-color-unfitted-level-1);\n",
       "}\n",
       "\n",
       ".sk-estimator-doc-link.fitted,\n",
       "a:link.sk-estimator-doc-link.fitted,\n",
       "a:visited.sk-estimator-doc-link.fitted {\n",
       "  /* fitted */\n",
       "  border: var(--sklearn-color-fitted-level-1) 1pt solid;\n",
       "  color: var(--sklearn-color-fitted-level-1);\n",
       "}\n",
       "\n",
       "/* On hover */\n",
       "div.sk-estimator:hover .sk-estimator-doc-link:hover,\n",
       ".sk-estimator-doc-link:hover,\n",
       "div.sk-label-container:hover .sk-estimator-doc-link:hover,\n",
       ".sk-estimator-doc-link:hover {\n",
       "  /* unfitted */\n",
       "  background-color: var(--sklearn-color-unfitted-level-3);\n",
       "  color: var(--sklearn-color-background);\n",
       "  text-decoration: none;\n",
       "}\n",
       "\n",
       "div.sk-estimator.fitted:hover .sk-estimator-doc-link.fitted:hover,\n",
       ".sk-estimator-doc-link.fitted:hover,\n",
       "div.sk-label-container:hover .sk-estimator-doc-link.fitted:hover,\n",
       ".sk-estimator-doc-link.fitted:hover {\n",
       "  /* fitted */\n",
       "  background-color: var(--sklearn-color-fitted-level-3);\n",
       "  color: var(--sklearn-color-background);\n",
       "  text-decoration: none;\n",
       "}\n",
       "\n",
       "/* Span, style for the box shown on hovering the info icon */\n",
       ".sk-estimator-doc-link span {\n",
       "  display: none;\n",
       "  z-index: 9999;\n",
       "  position: relative;\n",
       "  font-weight: normal;\n",
       "  right: .2ex;\n",
       "  padding: .5ex;\n",
       "  margin: .5ex;\n",
       "  width: min-content;\n",
       "  min-width: 20ex;\n",
       "  max-width: 50ex;\n",
       "  color: var(--sklearn-color-text);\n",
       "  box-shadow: 2pt 2pt 4pt #999;\n",
       "  /* unfitted */\n",
       "  background: var(--sklearn-color-unfitted-level-0);\n",
       "  border: .5pt solid var(--sklearn-color-unfitted-level-3);\n",
       "}\n",
       "\n",
       ".sk-estimator-doc-link.fitted span {\n",
       "  /* fitted */\n",
       "  background: var(--sklearn-color-fitted-level-0);\n",
       "  border: var(--sklearn-color-fitted-level-3);\n",
       "}\n",
       "\n",
       ".sk-estimator-doc-link:hover span {\n",
       "  display: block;\n",
       "}\n",
       "\n",
       "/* \"?\"-specific style due to the `<a>` HTML tag */\n",
       "\n",
       "#sk-container-id-2 a.estimator_doc_link {\n",
       "  float: right;\n",
       "  font-size: 1rem;\n",
       "  line-height: 1em;\n",
       "  font-family: monospace;\n",
       "  background-color: var(--sklearn-color-background);\n",
       "  border-radius: 1rem;\n",
       "  height: 1rem;\n",
       "  width: 1rem;\n",
       "  text-decoration: none;\n",
       "  /* unfitted */\n",
       "  color: var(--sklearn-color-unfitted-level-1);\n",
       "  border: var(--sklearn-color-unfitted-level-1) 1pt solid;\n",
       "}\n",
       "\n",
       "#sk-container-id-2 a.estimator_doc_link.fitted {\n",
       "  /* fitted */\n",
       "  border: var(--sklearn-color-fitted-level-1) 1pt solid;\n",
       "  color: var(--sklearn-color-fitted-level-1);\n",
       "}\n",
       "\n",
       "/* On hover */\n",
       "#sk-container-id-2 a.estimator_doc_link:hover {\n",
       "  /* unfitted */\n",
       "  background-color: var(--sklearn-color-unfitted-level-3);\n",
       "  color: var(--sklearn-color-background);\n",
       "  text-decoration: none;\n",
       "}\n",
       "\n",
       "#sk-container-id-2 a.estimator_doc_link.fitted:hover {\n",
       "  /* fitted */\n",
       "  background-color: var(--sklearn-color-fitted-level-3);\n",
       "}\n",
       "</style><div id=\"sk-container-id-2\" class=\"sk-top-container\"><div class=\"sk-text-repr-fallback\"><pre>LogisticRegression()</pre><b>In a Jupyter environment, please rerun this cell to show the HTML representation or trust the notebook. <br />On GitHub, the HTML representation is unable to render, please try loading this page with nbviewer.org.</b></div><div class=\"sk-container\" hidden><div class=\"sk-item\"><div class=\"sk-estimator fitted sk-toggleable\"><input class=\"sk-toggleable__control sk-hidden--visually\" id=\"sk-estimator-id-2\" type=\"checkbox\" checked><label for=\"sk-estimator-id-2\" class=\"sk-toggleable__label fitted sk-toggleable__label-arrow fitted\">&nbsp;&nbsp;LogisticRegression<a class=\"sk-estimator-doc-link fitted\" rel=\"noreferrer\" target=\"_blank\" href=\"https://scikit-learn.org/1.4/modules/generated/sklearn.linear_model.LogisticRegression.html\">?<span>Documentation for LogisticRegression</span></a><span class=\"sk-estimator-doc-link fitted\">i<span>Fitted</span></span></label><div class=\"sk-toggleable__content fitted\"><pre>LogisticRegression()</pre></div> </div></div></div></div>"
      ],
      "text/plain": [
       "LogisticRegression()"
      ]
     },
     "execution_count": 31,
     "metadata": {},
     "output_type": "execute_result"
    }
   ],
   "source": [
    "model.fit(X_train, y_train)\n"
   ]
  },
  {
   "cell_type": "code",
   "execution_count": 32,
   "metadata": {},
   "outputs": [],
   "source": [
    "y_predicted = model.predict(X_test)"
   ]
  },
  {
   "cell_type": "code",
   "execution_count": 33,
   "metadata": {},
   "outputs": [
    {
     "data": {
      "text/plain": [
       "array([0, 1, 1, 1, 1, 1])"
      ]
     },
     "execution_count": 33,
     "metadata": {},
     "output_type": "execute_result"
    }
   ],
   "source": [
    "y_predicted"
   ]
  },
  {
   "cell_type": "code",
   "execution_count": 36,
   "metadata": {},
   "outputs": [
    {
     "name": "stdout",
     "output_type": "stream",
     "text": [
      "[1]\n"
     ]
    },
    {
     "name": "stderr",
     "output_type": "stream",
     "text": [
      "/home/muzammil/anaconda3/lib/python3.12/site-packages/sklearn/base.py:493: UserWarning: X does not have valid feature names, but LogisticRegression was fitted with feature names\n",
      "  warnings.warn(\n"
     ]
    }
   ],
   "source": [
    "import numpy as np\n",
    "\n",
    "y_pred = model.predict(np.array([77]).reshape(1, -1))  # Reshape input\n",
    "print(y_pred)\n"
   ]
  },
  {
   "cell_type": "code",
   "execution_count": 43,
   "metadata": {
    "id": "f301WyqCouYO"
   },
   "outputs": [],
   "source": [
    "#Importing Libraries\n",
    "import numpy as np\n",
    "import pandas as pd\n",
    "from sklearn.linear_model import LogisticRegression\n",
    "from sklearn.model_selection import train_test_split\n",
    "from sklearn.metrics import confusion_matrix\n",
    "from sklearn.metrics import accuracy_score"
   ]
  },
  {
   "cell_type": "markdown",
   "metadata": {
    "id": "5268ImJRpHFR"
   },
   "source": [
    "## **Data Framing**\n",
    "\n",
    "Read .csv data into a Dataframe"
   ]
  },
  {
   "cell_type": "code",
   "execution_count": 44,
   "metadata": {
    "colab": {
     "base_uri": "https://localhost:8080/",
     "height": 534
    },
    "id": "QQYWttROpS10",
    "outputId": "ce9afcfc-3d7e-44f7-ace1-d411996af618"
   },
   "outputs": [
    {
     "data": {
      "text/html": [
       "<div>\n",
       "<style scoped>\n",
       "    .dataframe tbody tr th:only-of-type {\n",
       "        vertical-align: middle;\n",
       "    }\n",
       "\n",
       "    .dataframe tbody tr th {\n",
       "        vertical-align: top;\n",
       "    }\n",
       "\n",
       "    .dataframe thead th {\n",
       "        text-align: right;\n",
       "    }\n",
       "</style>\n",
       "<table border=\"1\" class=\"dataframe\">\n",
       "  <thead>\n",
       "    <tr style=\"text-align: right;\">\n",
       "      <th></th>\n",
       "      <th>pclass</th>\n",
       "      <th>survived</th>\n",
       "      <th>name</th>\n",
       "      <th>sex</th>\n",
       "      <th>age</th>\n",
       "      <th>sibsp</th>\n",
       "      <th>parch</th>\n",
       "      <th>ticket</th>\n",
       "      <th>fare</th>\n",
       "      <th>cabin</th>\n",
       "      <th>embarked</th>\n",
       "      <th>boat</th>\n",
       "      <th>body</th>\n",
       "      <th>home.dest</th>\n",
       "    </tr>\n",
       "  </thead>\n",
       "  <tbody>\n",
       "    <tr>\n",
       "      <th>0</th>\n",
       "      <td>1.0</td>\n",
       "      <td>1.0</td>\n",
       "      <td>Allen, Miss. Elisabeth Walton</td>\n",
       "      <td>female</td>\n",
       "      <td>29.0000</td>\n",
       "      <td>0.0</td>\n",
       "      <td>0.0</td>\n",
       "      <td>24160</td>\n",
       "      <td>211.3375</td>\n",
       "      <td>B5</td>\n",
       "      <td>S</td>\n",
       "      <td>2</td>\n",
       "      <td>NaN</td>\n",
       "      <td>St Louis, MO</td>\n",
       "    </tr>\n",
       "    <tr>\n",
       "      <th>1</th>\n",
       "      <td>1.0</td>\n",
       "      <td>1.0</td>\n",
       "      <td>Allison, Master. Hudson Trevor</td>\n",
       "      <td>male</td>\n",
       "      <td>0.9167</td>\n",
       "      <td>1.0</td>\n",
       "      <td>2.0</td>\n",
       "      <td>113781</td>\n",
       "      <td>151.5500</td>\n",
       "      <td>C22 C26</td>\n",
       "      <td>S</td>\n",
       "      <td>11</td>\n",
       "      <td>NaN</td>\n",
       "      <td>Montreal, PQ / Chesterville, ON</td>\n",
       "    </tr>\n",
       "    <tr>\n",
       "      <th>2</th>\n",
       "      <td>1.0</td>\n",
       "      <td>0.0</td>\n",
       "      <td>Allison, Miss. Helen Loraine</td>\n",
       "      <td>female</td>\n",
       "      <td>2.0000</td>\n",
       "      <td>1.0</td>\n",
       "      <td>2.0</td>\n",
       "      <td>113781</td>\n",
       "      <td>151.5500</td>\n",
       "      <td>C22 C26</td>\n",
       "      <td>S</td>\n",
       "      <td>NaN</td>\n",
       "      <td>NaN</td>\n",
       "      <td>Montreal, PQ / Chesterville, ON</td>\n",
       "    </tr>\n",
       "    <tr>\n",
       "      <th>3</th>\n",
       "      <td>1.0</td>\n",
       "      <td>0.0</td>\n",
       "      <td>Allison, Mr. Hudson Joshua Creighton</td>\n",
       "      <td>male</td>\n",
       "      <td>30.0000</td>\n",
       "      <td>1.0</td>\n",
       "      <td>2.0</td>\n",
       "      <td>113781</td>\n",
       "      <td>151.5500</td>\n",
       "      <td>C22 C26</td>\n",
       "      <td>S</td>\n",
       "      <td>NaN</td>\n",
       "      <td>135.0</td>\n",
       "      <td>Montreal, PQ / Chesterville, ON</td>\n",
       "    </tr>\n",
       "    <tr>\n",
       "      <th>4</th>\n",
       "      <td>1.0</td>\n",
       "      <td>0.0</td>\n",
       "      <td>Allison, Mrs. Hudson J C (Bessie Waldo Daniels)</td>\n",
       "      <td>female</td>\n",
       "      <td>25.0000</td>\n",
       "      <td>1.0</td>\n",
       "      <td>2.0</td>\n",
       "      <td>113781</td>\n",
       "      <td>151.5500</td>\n",
       "      <td>C22 C26</td>\n",
       "      <td>S</td>\n",
       "      <td>NaN</td>\n",
       "      <td>NaN</td>\n",
       "      <td>Montreal, PQ / Chesterville, ON</td>\n",
       "    </tr>\n",
       "  </tbody>\n",
       "</table>\n",
       "</div>"
      ],
      "text/plain": [
       "   pclass  survived                                             name     sex  \\\n",
       "0     1.0       1.0                    Allen, Miss. Elisabeth Walton  female   \n",
       "1     1.0       1.0                   Allison, Master. Hudson Trevor    male   \n",
       "2     1.0       0.0                     Allison, Miss. Helen Loraine  female   \n",
       "3     1.0       0.0             Allison, Mr. Hudson Joshua Creighton    male   \n",
       "4     1.0       0.0  Allison, Mrs. Hudson J C (Bessie Waldo Daniels)  female   \n",
       "\n",
       "       age  sibsp  parch  ticket      fare    cabin embarked boat   body  \\\n",
       "0  29.0000    0.0    0.0   24160  211.3375       B5        S    2    NaN   \n",
       "1   0.9167    1.0    2.0  113781  151.5500  C22 C26        S   11    NaN   \n",
       "2   2.0000    1.0    2.0  113781  151.5500  C22 C26        S  NaN    NaN   \n",
       "3  30.0000    1.0    2.0  113781  151.5500  C22 C26        S  NaN  135.0   \n",
       "4  25.0000    1.0    2.0  113781  151.5500  C22 C26        S  NaN    NaN   \n",
       "\n",
       "                         home.dest  \n",
       "0                     St Louis, MO  \n",
       "1  Montreal, PQ / Chesterville, ON  \n",
       "2  Montreal, PQ / Chesterville, ON  \n",
       "3  Montreal, PQ / Chesterville, ON  \n",
       "4  Montreal, PQ / Chesterville, ON  "
      ]
     },
     "execution_count": 44,
     "metadata": {},
     "output_type": "execute_result"
    }
   ],
   "source": [
    "#reading our dataset in Alias: data.\n",
    "data = pd.read_csv(\"./titanic.csv\")\n",
    "\n",
    "#Overviewing our dataset\n",
    "data.head()"
   ]
  },
  {
   "cell_type": "code",
   "execution_count": 45,
   "metadata": {},
   "outputs": [
    {
     "data": {
      "image/png": "[encoded data removed]",
      "text/plain": [
       "<Figure size 1200x1000 with 1 Axes>"
      ]
     },
     "metadata": {},
     "output_type": "display_data"
    }
   ],
   "source": [
    "plt.subplots(figsize = (12,10))\n",
    "plt.scatter(data['age'], data['survived']);\n",
    "plt.xlabel(\"Age\")\n",
    "plt.ylabel('Survival Status');\n"
   ]
  },
  {
   "cell_type": "markdown",
   "metadata": {
    "id": "fq9md0KYvZdI"
   },
   "source": [
    "## **Exploring Dataset**"
   ]
  },
  {
   "cell_type": "code",
   "execution_count": 46,
   "metadata": {
    "id": "XEl_px2gsP6P"
   },
   "outputs": [],
   "source": [
    "data = data[[\"pclass\",\"sex\",\"age\",\"survived\"]]"
   ]
  },
  {
   "cell_type": "code",
   "execution_count": 47,
   "metadata": {
    "colab": {
     "base_uri": "https://localhost:8080/",
     "height": 35
    },
    "id": "3cIHIh7mqikT",
    "outputId": "a3d5a08e-ec52-4bb6-a820-3a0bf4b5f67d"
   },
   "outputs": [
    {
     "data": {
      "text/plain": [
       "(1310, 4)"
      ]
     },
     "execution_count": 47,
     "metadata": {},
     "output_type": "execute_result"
    }
   ],
   "source": [
    "data.shape"
   ]
  },
  {
   "cell_type": "code",
   "execution_count": 48,
   "metadata": {
    "colab": {
     "base_uri": "https://localhost:8080/",
     "height": 294
    },
    "id": "L0NLNbzVorcS",
    "outputId": "53d61617-8505-4d02-b1a5-dc535ca74e1c"
   },
   "outputs": [
    {
     "data": {
      "text/html": [
       "<div>\n",
       "<style scoped>\n",
       "    .dataframe tbody tr th:only-of-type {\n",
       "        vertical-align: middle;\n",
       "    }\n",
       "\n",
       "    .dataframe tbody tr th {\n",
       "        vertical-align: top;\n",
       "    }\n",
       "\n",
       "    .dataframe thead th {\n",
       "        text-align: right;\n",
       "    }\n",
       "</style>\n",
       "<table border=\"1\" class=\"dataframe\">\n",
       "  <thead>\n",
       "    <tr style=\"text-align: right;\">\n",
       "      <th></th>\n",
       "      <th>pclass</th>\n",
       "      <th>age</th>\n",
       "      <th>survived</th>\n",
       "    </tr>\n",
       "  </thead>\n",
       "  <tbody>\n",
       "    <tr>\n",
       "      <th>count</th>\n",
       "      <td>1309.000000</td>\n",
       "      <td>1046.000000</td>\n",
       "      <td>1309.000000</td>\n",
       "    </tr>\n",
       "    <tr>\n",
       "      <th>mean</th>\n",
       "      <td>2.294882</td>\n",
       "      <td>29.881135</td>\n",
       "      <td>0.381971</td>\n",
       "    </tr>\n",
       "    <tr>\n",
       "      <th>std</th>\n",
       "      <td>0.837836</td>\n",
       "      <td>14.413500</td>\n",
       "      <td>0.486055</td>\n",
       "    </tr>\n",
       "    <tr>\n",
       "      <th>min</th>\n",
       "      <td>1.000000</td>\n",
       "      <td>0.166700</td>\n",
       "      <td>0.000000</td>\n",
       "    </tr>\n",
       "    <tr>\n",
       "      <th>25%</th>\n",
       "      <td>2.000000</td>\n",
       "      <td>21.000000</td>\n",
       "      <td>0.000000</td>\n",
       "    </tr>\n",
       "    <tr>\n",
       "      <th>50%</th>\n",
       "      <td>3.000000</td>\n",
       "      <td>28.000000</td>\n",
       "      <td>0.000000</td>\n",
       "    </tr>\n",
       "    <tr>\n",
       "      <th>75%</th>\n",
       "      <td>3.000000</td>\n",
       "      <td>39.000000</td>\n",
       "      <td>1.000000</td>\n",
       "    </tr>\n",
       "    <tr>\n",
       "      <th>max</th>\n",
       "      <td>3.000000</td>\n",
       "      <td>80.000000</td>\n",
       "      <td>1.000000</td>\n",
       "    </tr>\n",
       "  </tbody>\n",
       "</table>\n",
       "</div>"
      ],
      "text/plain": [
       "            pclass          age     survived\n",
       "count  1309.000000  1046.000000  1309.000000\n",
       "mean      2.294882    29.881135     0.381971\n",
       "std       0.837836    14.413500     0.486055\n",
       "min       1.000000     0.166700     0.000000\n",
       "25%       2.000000    21.000000     0.000000\n",
       "50%       3.000000    28.000000     0.000000\n",
       "75%       3.000000    39.000000     1.000000\n",
       "max       3.000000    80.000000     1.000000"
      ]
     },
     "execution_count": 48,
     "metadata": {},
     "output_type": "execute_result"
    }
   ],
   "source": [
    "#Describing our dataset\n",
    "data.describe()"
   ]
  },
  {
   "cell_type": "code",
   "execution_count": 49,
   "metadata": {
    "colab": {
     "base_uri": "https://localhost:8080/",
     "height": 202
    },
    "id": "u9Dwmpp9tF8j",
    "outputId": "886e93b2-5c2c-417a-936d-d4e844532fd3"
   },
   "outputs": [
    {
     "data": {
      "text/html": [
       "<div>\n",
       "<style scoped>\n",
       "    .dataframe tbody tr th:only-of-type {\n",
       "        vertical-align: middle;\n",
       "    }\n",
       "\n",
       "    .dataframe tbody tr th {\n",
       "        vertical-align: top;\n",
       "    }\n",
       "\n",
       "    .dataframe thead th {\n",
       "        text-align: right;\n",
       "    }\n",
       "</style>\n",
       "<table border=\"1\" class=\"dataframe\">\n",
       "  <thead>\n",
       "    <tr style=\"text-align: right;\">\n",
       "      <th></th>\n",
       "      <th>pclass</th>\n",
       "      <th>sex</th>\n",
       "      <th>age</th>\n",
       "      <th>survived</th>\n",
       "    </tr>\n",
       "  </thead>\n",
       "  <tbody>\n",
       "    <tr>\n",
       "      <th>0</th>\n",
       "      <td>1.0</td>\n",
       "      <td>female</td>\n",
       "      <td>29.0000</td>\n",
       "      <td>1.0</td>\n",
       "    </tr>\n",
       "    <tr>\n",
       "      <th>1</th>\n",
       "      <td>1.0</td>\n",
       "      <td>male</td>\n",
       "      <td>0.9167</td>\n",
       "      <td>1.0</td>\n",
       "    </tr>\n",
       "    <tr>\n",
       "      <th>2</th>\n",
       "      <td>1.0</td>\n",
       "      <td>female</td>\n",
       "      <td>2.0000</td>\n",
       "      <td>0.0</td>\n",
       "    </tr>\n",
       "    <tr>\n",
       "      <th>3</th>\n",
       "      <td>1.0</td>\n",
       "      <td>male</td>\n",
       "      <td>30.0000</td>\n",
       "      <td>0.0</td>\n",
       "    </tr>\n",
       "    <tr>\n",
       "      <th>4</th>\n",
       "      <td>1.0</td>\n",
       "      <td>female</td>\n",
       "      <td>25.0000</td>\n",
       "      <td>0.0</td>\n",
       "    </tr>\n",
       "  </tbody>\n",
       "</table>\n",
       "</div>"
      ],
      "text/plain": [
       "   pclass     sex      age  survived\n",
       "0     1.0  female  29.0000       1.0\n",
       "1     1.0    male   0.9167       1.0\n",
       "2     1.0  female   2.0000       0.0\n",
       "3     1.0    male  30.0000       0.0\n",
       "4     1.0  female  25.0000       0.0"
      ]
     },
     "execution_count": 49,
     "metadata": {},
     "output_type": "execute_result"
    }
   ],
   "source": [
    "#Printing top 5 rows\n",
    "data.head()\n"
   ]
  },
  {
   "cell_type": "code",
   "execution_count": 50,
   "metadata": {
    "colab": {
     "base_uri": "https://localhost:8080/",
     "height": 202
    },
    "id": "gIBOv1ikthRq",
    "outputId": "b757dd08-8f8b-4ae0-cc54-4e08027054b2"
   },
   "outputs": [
    {
     "data": {
      "text/html": [
       "<div>\n",
       "<style scoped>\n",
       "    .dataframe tbody tr th:only-of-type {\n",
       "        vertical-align: middle;\n",
       "    }\n",
       "\n",
       "    .dataframe tbody tr th {\n",
       "        vertical-align: top;\n",
       "    }\n",
       "\n",
       "    .dataframe thead th {\n",
       "        text-align: right;\n",
       "    }\n",
       "</style>\n",
       "<table border=\"1\" class=\"dataframe\">\n",
       "  <thead>\n",
       "    <tr style=\"text-align: right;\">\n",
       "      <th></th>\n",
       "      <th>pclass</th>\n",
       "      <th>sex</th>\n",
       "      <th>age</th>\n",
       "      <th>survived</th>\n",
       "    </tr>\n",
       "  </thead>\n",
       "  <tbody>\n",
       "    <tr>\n",
       "      <th>1305</th>\n",
       "      <td>3.0</td>\n",
       "      <td>female</td>\n",
       "      <td>NaN</td>\n",
       "      <td>0.0</td>\n",
       "    </tr>\n",
       "    <tr>\n",
       "      <th>1306</th>\n",
       "      <td>3.0</td>\n",
       "      <td>male</td>\n",
       "      <td>26.5</td>\n",
       "      <td>0.0</td>\n",
       "    </tr>\n",
       "    <tr>\n",
       "      <th>1307</th>\n",
       "      <td>3.0</td>\n",
       "      <td>male</td>\n",
       "      <td>27.0</td>\n",
       "      <td>0.0</td>\n",
       "    </tr>\n",
       "    <tr>\n",
       "      <th>1308</th>\n",
       "      <td>3.0</td>\n",
       "      <td>male</td>\n",
       "      <td>29.0</td>\n",
       "      <td>0.0</td>\n",
       "    </tr>\n",
       "    <tr>\n",
       "      <th>1309</th>\n",
       "      <td>NaN</td>\n",
       "      <td>NaN</td>\n",
       "      <td>NaN</td>\n",
       "      <td>NaN</td>\n",
       "    </tr>\n",
       "  </tbody>\n",
       "</table>\n",
       "</div>"
      ],
      "text/plain": [
       "      pclass     sex   age  survived\n",
       "1305     3.0  female   NaN       0.0\n",
       "1306     3.0    male  26.5       0.0\n",
       "1307     3.0    male  27.0       0.0\n",
       "1308     3.0    male  29.0       0.0\n",
       "1309     NaN     NaN   NaN       NaN"
      ]
     },
     "execution_count": 50,
     "metadata": {},
     "output_type": "execute_result"
    }
   ],
   "source": [
    "#Printing last 5 rows\n",
    "data.tail()"
   ]
  },
  {
   "cell_type": "code",
   "execution_count": 51,
   "metadata": {
    "colab": {
     "base_uri": "https://localhost:8080/",
     "height": 104
    },
    "id": "H2Ek3-LItF5w",
    "outputId": "d004298f-c35d-43f3-b06d-dbaa029ccbb6"
   },
   "outputs": [
    {
     "name": "stdout",
     "output_type": "stream",
     "text": [
      "pclass        1\n",
      "sex           1\n",
      "age         264\n",
      "survived      1\n",
      "dtype: int64\n"
     ]
    }
   ],
   "source": [
    "#Finding  number of Nan or missing values in all columns\n",
    "print(data.isna().sum(axis = 0))\n",
    "\n",
    "# data.isna().sum(axis = 0)   # Nan values in every column\n",
    "# data.isna().sum(axis = 1)   # Nan values in every row."
   ]
  },
  {
   "cell_type": "markdown",
   "metadata": {
    "id": "abU-r0p-wdBM"
   },
   "source": [
    "## **Preprocessing: Dealing with Missing Values**"
   ]
  },
  {
   "cell_type": "code",
   "execution_count": 52,
   "metadata": {
    "id": "wjuJPIzutlUN"
   },
   "outputs": [],
   "source": [
    "#Dropping Rows with Nan in all provided columns\n",
    "data = data.dropna(subset=[\"sex\",\"pclass\",\"survived\"])"
   ]
  },
  {
   "cell_type": "code",
   "execution_count": 53,
   "metadata": {
    "colab": {
     "base_uri": "https://localhost:8080/",
     "height": 104
    },
    "id": "DqZS_F-ewVbz",
    "outputId": "9c16b25e-d382-4b5d-daef-7391f3af2254",
    "scrolled": true
   },
   "outputs": [
    {
     "name": "stdout",
     "output_type": "stream",
     "text": [
      "pclass        0\n",
      "sex           0\n",
      "age         263\n",
      "survived      0\n",
      "dtype: int64\n"
     ]
    }
   ],
   "source": [
    "#Again Finding  number of Nan or missing values in all columns\n",
    "print(data.isna().sum(axis = 0))"
   ]
  },
  {
   "cell_type": "code",
   "execution_count": 54,
   "metadata": {
    "colab": {
     "base_uri": "https://localhost:8080/",
     "height": 202
    },
    "id": "XpJ52hRMuF_7",
    "outputId": "d8cc2046-c513-4b23-e0c7-7c50733adce6"
   },
   "outputs": [
    {
     "data": {
      "text/html": [
       "<div>\n",
       "<style scoped>\n",
       "    .dataframe tbody tr th:only-of-type {\n",
       "        vertical-align: middle;\n",
       "    }\n",
       "\n",
       "    .dataframe tbody tr th {\n",
       "        vertical-align: top;\n",
       "    }\n",
       "\n",
       "    .dataframe thead th {\n",
       "        text-align: right;\n",
       "    }\n",
       "</style>\n",
       "<table border=\"1\" class=\"dataframe\">\n",
       "  <thead>\n",
       "    <tr style=\"text-align: right;\">\n",
       "      <th></th>\n",
       "      <th>pclass</th>\n",
       "      <th>sex</th>\n",
       "      <th>age</th>\n",
       "      <th>survived</th>\n",
       "    </tr>\n",
       "  </thead>\n",
       "  <tbody>\n",
       "    <tr>\n",
       "      <th>1304</th>\n",
       "      <td>3.0</td>\n",
       "      <td>female</td>\n",
       "      <td>14.5</td>\n",
       "      <td>0.0</td>\n",
       "    </tr>\n",
       "    <tr>\n",
       "      <th>1305</th>\n",
       "      <td>3.0</td>\n",
       "      <td>female</td>\n",
       "      <td>NaN</td>\n",
       "      <td>0.0</td>\n",
       "    </tr>\n",
       "    <tr>\n",
       "      <th>1306</th>\n",
       "      <td>3.0</td>\n",
       "      <td>male</td>\n",
       "      <td>26.5</td>\n",
       "      <td>0.0</td>\n",
       "    </tr>\n",
       "    <tr>\n",
       "      <th>1307</th>\n",
       "      <td>3.0</td>\n",
       "      <td>male</td>\n",
       "      <td>27.0</td>\n",
       "      <td>0.0</td>\n",
       "    </tr>\n",
       "    <tr>\n",
       "      <th>1308</th>\n",
       "      <td>3.0</td>\n",
       "      <td>male</td>\n",
       "      <td>29.0</td>\n",
       "      <td>0.0</td>\n",
       "    </tr>\n",
       "  </tbody>\n",
       "</table>\n",
       "</div>"
      ],
      "text/plain": [
       "      pclass     sex   age  survived\n",
       "1304     3.0  female  14.5       0.0\n",
       "1305     3.0  female   NaN       0.0\n",
       "1306     3.0    male  26.5       0.0\n",
       "1307     3.0    male  27.0       0.0\n",
       "1308     3.0    male  29.0       0.0"
      ]
     },
     "execution_count": 54,
     "metadata": {},
     "output_type": "execute_result"
    }
   ],
   "source": [
    "data.tail()"
   ]
  },
  {
   "cell_type": "markdown",
   "metadata": {
    "id": "QuQuQ_WzrPUh"
   },
   "source": [
    "## **Preprocessing: Label Encoding**\n",
    "\n",
    "Since in **sex** column we are not having a numerical vallue, just having male and female. Since, model doesn't accept text, wo we will transform text into binary labels."
   ]
  },
  {
   "cell_type": "code",
   "execution_count": 55,
   "metadata": {
    "colab": {
     "base_uri": "https://localhost:8080/",
     "height": 225
    },
    "id": "IYfjX_6prPbI",
    "outputId": "2ef5d210-1ab1-4bd9-b348-16149a6bcb95"
   },
   "outputs": [
    {
     "data": {
      "text/plain": [
       "0       0\n",
       "1       1\n",
       "2       0\n",
       "3       1\n",
       "4       0\n",
       "       ..\n",
       "1304    0\n",
       "1305    0\n",
       "1306    1\n",
       "1307    1\n",
       "1308    1\n",
       "Name: sex, Length: 1309, dtype: int64"
      ]
     },
     "execution_count": 55,
     "metadata": {},
     "output_type": "execute_result"
    }
   ],
   "source": [
    "data[\"sex\"] = data[\"sex\"].map({\"male\":1,\"female\":0})\n",
    "\n",
    "data[\"sex\"]"
   ]
  },
  {
   "cell_type": "code",
   "execution_count": 56,
   "metadata": {
    "colab": {
     "base_uri": "https://localhost:8080/",
     "height": 202
    },
    "id": "bEqlqLB71HYp",
    "outputId": "81116aa5-4ebb-4131-d3ac-840560c47a76"
   },
   "outputs": [
    {
     "data": {
      "text/html": [
       "<div>\n",
       "<style scoped>\n",
       "    .dataframe tbody tr th:only-of-type {\n",
       "        vertical-align: middle;\n",
       "    }\n",
       "\n",
       "    .dataframe tbody tr th {\n",
       "        vertical-align: top;\n",
       "    }\n",
       "\n",
       "    .dataframe thead th {\n",
       "        text-align: right;\n",
       "    }\n",
       "</style>\n",
       "<table border=\"1\" class=\"dataframe\">\n",
       "  <thead>\n",
       "    <tr style=\"text-align: right;\">\n",
       "      <th></th>\n",
       "      <th>pclass</th>\n",
       "      <th>sex</th>\n",
       "      <th>age</th>\n",
       "      <th>survived</th>\n",
       "    </tr>\n",
       "  </thead>\n",
       "  <tbody>\n",
       "    <tr>\n",
       "      <th>0</th>\n",
       "      <td>1.0</td>\n",
       "      <td>0</td>\n",
       "      <td>29.0000</td>\n",
       "      <td>1.0</td>\n",
       "    </tr>\n",
       "    <tr>\n",
       "      <th>1</th>\n",
       "      <td>1.0</td>\n",
       "      <td>1</td>\n",
       "      <td>0.9167</td>\n",
       "      <td>1.0</td>\n",
       "    </tr>\n",
       "    <tr>\n",
       "      <th>2</th>\n",
       "      <td>1.0</td>\n",
       "      <td>0</td>\n",
       "      <td>2.0000</td>\n",
       "      <td>0.0</td>\n",
       "    </tr>\n",
       "    <tr>\n",
       "      <th>3</th>\n",
       "      <td>1.0</td>\n",
       "      <td>1</td>\n",
       "      <td>30.0000</td>\n",
       "      <td>0.0</td>\n",
       "    </tr>\n",
       "    <tr>\n",
       "      <th>4</th>\n",
       "      <td>1.0</td>\n",
       "      <td>0</td>\n",
       "      <td>25.0000</td>\n",
       "      <td>0.0</td>\n",
       "    </tr>\n",
       "  </tbody>\n",
       "</table>\n",
       "</div>"
      ],
      "text/plain": [
       "   pclass  sex      age  survived\n",
       "0     1.0    0  29.0000       1.0\n",
       "1     1.0    1   0.9167       1.0\n",
       "2     1.0    0   2.0000       0.0\n",
       "3     1.0    1  30.0000       0.0\n",
       "4     1.0    0  25.0000       0.0"
      ]
     },
     "execution_count": 56,
     "metadata": {},
     "output_type": "execute_result"
    }
   ],
   "source": [
    "data.head()"
   ]
  },
  {
   "cell_type": "markdown",
   "metadata": {
    "id": "r-lgn3bWpVy6"
   },
   "source": [
    "## **Features Extraction**\n",
    "\n",
    "Extracting features"
   ]
  },
  {
   "cell_type": "code",
   "execution_count": 57,
   "metadata": {
    "colab": {
     "base_uri": "https://localhost:8080/",
     "height": 202
    },
    "id": "kXryTteqpcBV",
    "outputId": "8258ecac-7249-4af0-ae87-575bd18af674"
   },
   "outputs": [
    {
     "data": {
      "text/html": [
       "<div>\n",
       "<style scoped>\n",
       "    .dataframe tbody tr th:only-of-type {\n",
       "        vertical-align: middle;\n",
       "    }\n",
       "\n",
       "    .dataframe tbody tr th {\n",
       "        vertical-align: top;\n",
       "    }\n",
       "\n",
       "    .dataframe thead th {\n",
       "        text-align: right;\n",
       "    }\n",
       "</style>\n",
       "<table border=\"1\" class=\"dataframe\">\n",
       "  <thead>\n",
       "    <tr style=\"text-align: right;\">\n",
       "      <th></th>\n",
       "      <th>sex</th>\n",
       "      <th>age</th>\n",
       "      <th>pclass</th>\n",
       "    </tr>\n",
       "  </thead>\n",
       "  <tbody>\n",
       "    <tr>\n",
       "      <th>0</th>\n",
       "      <td>0</td>\n",
       "      <td>29.0000</td>\n",
       "      <td>1.0</td>\n",
       "    </tr>\n",
       "    <tr>\n",
       "      <th>1</th>\n",
       "      <td>1</td>\n",
       "      <td>0.9167</td>\n",
       "      <td>1.0</td>\n",
       "    </tr>\n",
       "    <tr>\n",
       "      <th>2</th>\n",
       "      <td>0</td>\n",
       "      <td>2.0000</td>\n",
       "      <td>1.0</td>\n",
       "    </tr>\n",
       "    <tr>\n",
       "      <th>3</th>\n",
       "      <td>1</td>\n",
       "      <td>30.0000</td>\n",
       "      <td>1.0</td>\n",
       "    </tr>\n",
       "    <tr>\n",
       "      <th>4</th>\n",
       "      <td>0</td>\n",
       "      <td>25.0000</td>\n",
       "      <td>1.0</td>\n",
       "    </tr>\n",
       "  </tbody>\n",
       "</table>\n",
       "</div>"
      ],
      "text/plain": [
       "   sex      age  pclass\n",
       "0    0  29.0000     1.0\n",
       "1    1   0.9167     1.0\n",
       "2    0   2.0000     1.0\n",
       "3    1  30.0000     1.0\n",
       "4    0  25.0000     1.0"
      ]
     },
     "execution_count": 57,
     "metadata": {},
     "output_type": "execute_result"
    }
   ],
   "source": [
    "features = data[[\"sex\",\"age\",\"pclass\"]]\n",
    "target = data[[\"survived\"]]\n",
    "features.head()"
   ]
  },
  {
   "cell_type": "code",
   "execution_count": 58,
   "metadata": {
    "colab": {
     "base_uri": "https://localhost:8080/",
     "height": 202
    },
    "id": "weLcOXkryD6l",
    "outputId": "027c8f7a-3d0f-46ee-df54-1ce6c3b36aa3"
   },
   "outputs": [
    {
     "data": {
      "text/html": [
       "<div>\n",
       "<style scoped>\n",
       "    .dataframe tbody tr th:only-of-type {\n",
       "        vertical-align: middle;\n",
       "    }\n",
       "\n",
       "    .dataframe tbody tr th {\n",
       "        vertical-align: top;\n",
       "    }\n",
       "\n",
       "    .dataframe thead th {\n",
       "        text-align: right;\n",
       "    }\n",
       "</style>\n",
       "<table border=\"1\" class=\"dataframe\">\n",
       "  <thead>\n",
       "    <tr style=\"text-align: right;\">\n",
       "      <th></th>\n",
       "      <th>survived</th>\n",
       "    </tr>\n",
       "  </thead>\n",
       "  <tbody>\n",
       "    <tr>\n",
       "      <th>0</th>\n",
       "      <td>1.0</td>\n",
       "    </tr>\n",
       "    <tr>\n",
       "      <th>1</th>\n",
       "      <td>1.0</td>\n",
       "    </tr>\n",
       "    <tr>\n",
       "      <th>2</th>\n",
       "      <td>0.0</td>\n",
       "    </tr>\n",
       "    <tr>\n",
       "      <th>3</th>\n",
       "      <td>0.0</td>\n",
       "    </tr>\n",
       "    <tr>\n",
       "      <th>4</th>\n",
       "      <td>0.0</td>\n",
       "    </tr>\n",
       "  </tbody>\n",
       "</table>\n",
       "</div>"
      ],
      "text/plain": [
       "   survived\n",
       "0       1.0\n",
       "1       1.0\n",
       "2       0.0\n",
       "3       0.0\n",
       "4       0.0"
      ]
     },
     "execution_count": 58,
     "metadata": {},
     "output_type": "execute_result"
    }
   ],
   "source": [
    "target.head()"
   ]
  },
  {
   "cell_type": "markdown",
   "metadata": {
    "id": "LN40kUi0wWAA"
   },
   "source": [
    "## **Preprocessing: Imputation | Missing Values in Age**\n",
    "\n",
    "Now since we are having so many missing values in our column of **age** we will Impute the entire column"
   ]
  },
  {
   "cell_type": "code",
   "execution_count": 59,
   "metadata": {
    "id": "QuqKDNqxwWMM"
   },
   "outputs": [],
   "source": [
    "from sklearn.impute import SimpleImputer\n",
    "imputer = SimpleImputer(missing_values=np.nan, strategy='mean')\n",
    "features = imputer.fit_transform(features)"
   ]
  },
  {
   "cell_type": "code",
   "execution_count": 60,
   "metadata": {
    "colab": {
     "base_uri": "https://localhost:8080/",
     "height": 139
    },
    "id": "wmSFqm7Lxwxv",
    "outputId": "4c0a6d65-9f14-438d-f855-7452b4067fd5"
   },
   "outputs": [
    {
     "data": {
      "text/plain": [
       "array([[ 0.    , 29.    ,  1.    ],\n",
       "       [ 1.    ,  0.9167,  1.    ],\n",
       "       [ 0.    ,  2.    ,  1.    ],\n",
       "       ...,\n",
       "       [ 1.    , 26.5   ,  3.    ],\n",
       "       [ 1.    , 27.    ,  3.    ],\n",
       "       [ 1.    , 29.    ,  3.    ]])"
      ]
     },
     "execution_count": 60,
     "metadata": {},
     "output_type": "execute_result"
    }
   ],
   "source": [
    "features"
   ]
  },
  {
   "cell_type": "markdown",
   "metadata": {
    "id": "G6gnFOE_0jf8"
   },
   "source": [
    "## **Splitting our dataset into Train & Test Set**"
   ]
  },
  {
   "cell_type": "code",
   "execution_count": 61,
   "metadata": {
    "id": "wkIzLZqm0jl-"
   },
   "outputs": [],
   "source": [
    "feature_train, feature_test, target_train, target_test = train_test_split(features,target)"
   ]
  },
  {
   "cell_type": "code",
   "execution_count": 64,
   "metadata": {},
   "outputs": [
    {
     "data": {
      "text/plain": [
       "array([[ 1.        , 29.88113451,  3.        ],\n",
       "       [ 1.        , 18.        ,  2.        ],\n",
       "       [ 0.        ,  2.        ,  3.        ],\n",
       "       [ 1.        , 19.        ,  3.        ],\n",
       "       [ 1.        , 29.88113451,  1.        ],\n",
       "       [ 1.        , 51.        ,  1.        ],\n",
       "       [ 0.        , 15.        ,  3.        ],\n",
       "       [ 1.        , 41.        ,  2.        ],\n",
       "       [ 1.        , 25.        ,  2.        ],\n",
       "       [ 1.        , 63.        ,  2.        ],\n",
       "       [ 1.        , 19.        ,  2.        ],\n",
       "       [ 1.        , 57.        ,  2.        ],\n",
       "       [ 1.        , 29.88113451,  1.        ],\n",
       "       [ 1.        , 23.        ,  2.        ],\n",
       "       [ 1.        , 18.        ,  2.        ],\n",
       "       [ 1.        , 29.88113451,  3.        ],\n",
       "       [ 1.        , 71.        ,  1.        ],\n",
       "       [ 1.        ,  1.        ,  3.        ],\n",
       "       [ 1.        , 40.        ,  3.        ],\n",
       "       [ 1.        , 10.        ,  3.        ],\n",
       "       [ 1.        , 17.        ,  3.        ],\n",
       "       [ 1.        , 29.88113451,  3.        ],\n",
       "       [ 1.        , 21.        ,  3.        ],\n",
       "       [ 1.        , 70.        ,  1.        ],\n",
       "       [ 0.        , 27.        ,  2.        ],\n",
       "       [ 0.        , 26.        ,  2.        ],\n",
       "       [ 0.        , 28.        ,  2.        ],\n",
       "       [ 1.        , 20.        ,  3.        ],\n",
       "       [ 1.        , 29.88113451,  3.        ],\n",
       "       [ 1.        , 19.        ,  3.        ],\n",
       "       [ 0.        , 45.        ,  2.        ],\n",
       "       [ 0.        , 26.        ,  3.        ],\n",
       "       [ 1.        , 20.        ,  3.        ],\n",
       "       [ 1.        , 22.        ,  3.        ],\n",
       "       [ 0.        , 42.        ,  2.        ],\n",
       "       [ 1.        , 29.88113451,  3.        ],\n",
       "       [ 0.        , 18.        ,  1.        ],\n",
       "       [ 0.        , 24.        ,  3.        ],\n",
       "       [ 0.        , 22.        ,  1.        ],\n",
       "       [ 1.        , 28.        ,  3.        ],\n",
       "       [ 1.        , 34.5       ,  3.        ],\n",
       "       [ 1.        , 29.88113451,  2.        ],\n",
       "       [ 1.        , 36.        ,  3.        ],\n",
       "       [ 1.        , 50.        ,  2.        ],\n",
       "       [ 0.        , 20.        ,  3.        ],\n",
       "       [ 0.        , 29.88113451,  3.        ],\n",
       "       [ 1.        , 48.        ,  3.        ],\n",
       "       [ 1.        , 22.        ,  3.        ],\n",
       "       [ 0.        , 19.        ,  2.        ],\n",
       "       [ 1.        , 20.        ,  3.        ],\n",
       "       [ 1.        , 29.88113451,  3.        ],\n",
       "       [ 1.        , 37.        ,  1.        ],\n",
       "       [ 1.        , 40.        ,  2.        ],\n",
       "       [ 0.        , 20.        ,  3.        ],\n",
       "       [ 0.        , 22.        ,  2.        ],\n",
       "       [ 1.        , 29.88113451,  3.        ],\n",
       "       [ 1.        , 23.        ,  2.        ],\n",
       "       [ 0.        , 45.        ,  2.        ],\n",
       "       [ 1.        ,  6.        ,  3.        ],\n",
       "       [ 1.        , 36.        ,  1.        ],\n",
       "       [ 0.        , 14.5       ,  3.        ],\n",
       "       [ 0.        , 29.88113451,  3.        ],\n",
       "       [ 1.        , 25.        ,  3.        ],\n",
       "       [ 0.        , 35.        ,  3.        ],\n",
       "       [ 1.        , 31.        ,  1.        ],\n",
       "       [ 1.        , 29.88113451,  3.        ],\n",
       "       [ 1.        , 39.        ,  2.        ],\n",
       "       [ 1.        , 16.        ,  3.        ],\n",
       "       [ 0.        , 29.88113451,  3.        ],\n",
       "       [ 0.        , 22.        ,  1.        ],\n",
       "       [ 1.        , 22.        ,  3.        ],\n",
       "       [ 1.        , 33.        ,  1.        ],\n",
       "       [ 1.        , 35.        ,  2.        ],\n",
       "       [ 0.        , 31.        ,  3.        ],\n",
       "       [ 1.        , 29.        ,  2.        ],\n",
       "       [ 0.        , 38.        ,  3.        ],\n",
       "       [ 0.        , 18.        ,  3.        ],\n",
       "       [ 1.        , 28.        ,  3.        ],\n",
       "       [ 1.        , 26.        ,  3.        ],\n",
       "       [ 1.        , 29.88113451,  3.        ],\n",
       "       [ 1.        , 25.        ,  2.        ],\n",
       "       [ 1.        ,  2.        ,  2.        ],\n",
       "       [ 1.        , 19.        ,  3.        ],\n",
       "       [ 1.        , 29.88113451,  3.        ],\n",
       "       [ 1.        , 62.        ,  1.        ],\n",
       "       [ 1.        , 29.88113451,  3.        ],\n",
       "       [ 1.        , 29.88113451,  3.        ],\n",
       "       [ 0.        , 36.        ,  1.        ],\n",
       "       [ 0.        , 15.        ,  1.        ],\n",
       "       [ 0.        , 17.        ,  1.        ],\n",
       "       [ 0.        , 33.        ,  1.        ],\n",
       "       [ 0.        , 41.        ,  2.        ],\n",
       "       [ 1.        , 46.        ,  1.        ],\n",
       "       [ 1.        , 19.        ,  3.        ],\n",
       "       [ 0.        ,  0.1667    ,  3.        ],\n",
       "       [ 0.        , 18.        ,  2.        ],\n",
       "       [ 1.        , 14.5       ,  3.        ],\n",
       "       [ 1.        , 20.        ,  3.        ],\n",
       "       [ 1.        , 27.        ,  3.        ],\n",
       "       [ 1.        , 31.        ,  3.        ],\n",
       "       [ 0.        , 29.        ,  2.        ],\n",
       "       [ 1.        , 24.        ,  3.        ],\n",
       "       [ 0.        , 58.        ,  1.        ],\n",
       "       [ 0.        , 48.        ,  2.        ],\n",
       "       [ 1.        , 29.88113451,  3.        ],\n",
       "       [ 0.        , 44.        ,  1.        ],\n",
       "       [ 0.        , 44.        ,  2.        ],\n",
       "       [ 0.        , 29.88113451,  1.        ],\n",
       "       [ 1.        , 29.88113451,  3.        ],\n",
       "       [ 1.        , 39.        ,  3.        ],\n",
       "       [ 1.        , 20.        ,  2.        ],\n",
       "       [ 1.        , 30.        ,  3.        ],\n",
       "       [ 1.        , 29.88113451,  3.        ],\n",
       "       [ 0.        , 22.        ,  3.        ],\n",
       "       [ 0.        , 49.        ,  1.        ],\n",
       "       [ 0.        , 16.        ,  3.        ],\n",
       "       [ 0.        , 29.88113451,  3.        ],\n",
       "       [ 0.        , 31.        ,  3.        ],\n",
       "       [ 0.        ,  3.        ,  3.        ],\n",
       "       [ 1.        , 58.        ,  1.        ],\n",
       "       [ 1.        , 21.        ,  3.        ],\n",
       "       [ 1.        , 21.        ,  2.        ],\n",
       "       [ 1.        , 29.88113451,  2.        ],\n",
       "       [ 0.        , 36.        ,  1.        ],\n",
       "       [ 1.        , 34.        ,  3.        ],\n",
       "       [ 1.        , 29.88113451,  3.        ],\n",
       "       [ 1.        , 30.        ,  2.        ],\n",
       "       [ 0.        , 29.88113451,  3.        ],\n",
       "       [ 0.        , 18.        ,  3.        ],\n",
       "       [ 0.        , 20.        ,  3.        ],\n",
       "       [ 1.        , 29.88113451,  1.        ],\n",
       "       [ 0.        ,  0.75      ,  3.        ],\n",
       "       [ 1.        , 33.        ,  3.        ],\n",
       "       [ 1.        ,  2.        ,  3.        ],\n",
       "       [ 1.        , 54.        ,  2.        ],\n",
       "       [ 1.        , 29.88113451,  3.        ],\n",
       "       [ 1.        , 29.88113451,  3.        ],\n",
       "       [ 1.        , 14.        ,  3.        ],\n",
       "       [ 1.        , 29.88113451,  3.        ],\n",
       "       [ 1.        , 30.        ,  3.        ],\n",
       "       [ 0.        , 50.        ,  2.        ],\n",
       "       [ 0.        ,  4.        ,  3.        ],\n",
       "       [ 1.        , 21.        ,  3.        ],\n",
       "       [ 0.        , 17.        ,  1.        ],\n",
       "       [ 1.        , 18.        ,  3.        ],\n",
       "       [ 1.        , 40.        ,  3.        ],\n",
       "       [ 1.        , 29.88113451,  3.        ],\n",
       "       [ 1.        , 12.        ,  3.        ],\n",
       "       [ 0.        , 30.        ,  1.        ],\n",
       "       [ 0.        , 29.88113451,  3.        ],\n",
       "       [ 0.        , 33.        ,  3.        ],\n",
       "       [ 0.        , 18.        ,  2.        ],\n",
       "       [ 1.        ,  3.        ,  3.        ],\n",
       "       [ 1.        , 54.        ,  1.        ],\n",
       "       [ 1.        , 31.        ,  2.        ],\n",
       "       [ 0.        ,  7.        ,  2.        ],\n",
       "       [ 0.        , 36.        ,  3.        ],\n",
       "       [ 1.        , 18.        ,  2.        ],\n",
       "       [ 1.        , 32.        ,  3.        ],\n",
       "       [ 0.        , 31.        ,  2.        ],\n",
       "       [ 0.        , 12.        ,  2.        ],\n",
       "       [ 1.        , 28.        ,  3.        ],\n",
       "       [ 1.        , 42.        ,  1.        ],\n",
       "       [ 0.        , 45.        ,  3.        ],\n",
       "       [ 1.        , 39.        ,  3.        ],\n",
       "       [ 0.        , 54.        ,  1.        ],\n",
       "       [ 0.        , 22.        ,  2.        ],\n",
       "       [ 1.        , 29.88113451,  3.        ],\n",
       "       [ 1.        , 19.        ,  2.        ],\n",
       "       [ 1.        , 29.88113451,  3.        ],\n",
       "       [ 1.        , 40.        ,  2.        ],\n",
       "       [ 1.        , 22.        ,  2.        ],\n",
       "       [ 1.        , 41.        ,  3.        ],\n",
       "       [ 1.        , 52.        ,  1.        ],\n",
       "       [ 1.        , 26.        ,  2.        ],\n",
       "       [ 1.        , 47.        ,  2.        ],\n",
       "       [ 0.        , 29.88113451,  3.        ],\n",
       "       [ 1.        , 42.        ,  2.        ],\n",
       "       [ 0.        , 18.        ,  3.        ],\n",
       "       [ 1.        , 48.        ,  1.        ],\n",
       "       [ 0.        , 22.        ,  3.        ],\n",
       "       [ 1.        , 35.        ,  3.        ],\n",
       "       [ 0.        , 29.        ,  3.        ],\n",
       "       [ 0.        , 16.        ,  1.        ],\n",
       "       [ 1.        , 46.        ,  1.        ],\n",
       "       [ 1.        , 33.        ,  3.        ],\n",
       "       [ 1.        , 25.        ,  3.        ],\n",
       "       [ 1.        , 28.        ,  3.        ],\n",
       "       [ 1.        , 29.88113451,  3.        ],\n",
       "       [ 1.        , 18.        ,  3.        ],\n",
       "       [ 1.        , 29.88113451,  3.        ],\n",
       "       [ 1.        , 26.        ,  3.        ],\n",
       "       [ 0.        , 28.        ,  1.        ],\n",
       "       [ 1.        , 23.        ,  2.        ],\n",
       "       [ 0.        , 14.        ,  1.        ],\n",
       "       [ 1.        , 32.        ,  3.        ],\n",
       "       [ 1.        ,  6.        ,  3.        ],\n",
       "       [ 0.        ,  2.        ,  3.        ],\n",
       "       [ 0.        , 48.        ,  1.        ],\n",
       "       [ 1.        , 25.        ,  3.        ],\n",
       "       [ 0.        , 29.88113451,  1.        ],\n",
       "       [ 1.        , 17.        ,  1.        ],\n",
       "       [ 0.        , 36.        ,  1.        ],\n",
       "       [ 0.        , 45.        ,  3.        ],\n",
       "       [ 0.        , 15.        ,  2.        ],\n",
       "       [ 1.        ,  4.        ,  3.        ],\n",
       "       [ 1.        , 29.        ,  2.        ],\n",
       "       [ 0.        , 29.88113451,  3.        ],\n",
       "       [ 1.        , 29.88113451,  3.        ],\n",
       "       [ 1.        , 21.        ,  3.        ],\n",
       "       [ 0.        , 24.        ,  2.        ],\n",
       "       [ 1.        , 36.5       ,  2.        ],\n",
       "       [ 1.        , 27.        ,  1.        ],\n",
       "       [ 1.        , 55.        ,  1.        ],\n",
       "       [ 0.        , 38.        ,  3.        ],\n",
       "       [ 1.        , 49.        ,  1.        ],\n",
       "       [ 1.        , 23.        ,  2.        ],\n",
       "       [ 1.        , 22.        ,  3.        ],\n",
       "       [ 1.        , 16.        ,  2.        ],\n",
       "       [ 0.        , 30.        ,  1.        ],\n",
       "       [ 1.        , 29.88113451,  3.        ],\n",
       "       [ 0.        , 42.        ,  1.        ],\n",
       "       [ 1.        , 25.        ,  2.        ],\n",
       "       [ 0.        ,  4.        ,  2.        ],\n",
       "       [ 1.        ,  9.        ,  3.        ],\n",
       "       [ 1.        , 33.        ,  1.        ],\n",
       "       [ 0.        ,  9.        ,  3.        ],\n",
       "       [ 1.        , 29.88113451,  3.        ],\n",
       "       [ 1.        , 32.        ,  3.        ],\n",
       "       [ 1.        , 35.        ,  1.        ],\n",
       "       [ 1.        , 36.        ,  3.        ],\n",
       "       [ 0.        , 56.        ,  1.        ],\n",
       "       [ 1.        , 24.        ,  3.        ],\n",
       "       [ 0.        ,  9.        ,  3.        ],\n",
       "       [ 0.        , 38.        ,  1.        ],\n",
       "       [ 0.        , 22.        ,  3.        ],\n",
       "       [ 1.        , 29.88113451,  1.        ],\n",
       "       [ 1.        , 40.        ,  1.        ],\n",
       "       [ 0.        , 29.        ,  3.        ],\n",
       "       [ 0.        , 24.        ,  3.        ],\n",
       "       [ 1.        , 29.88113451,  3.        ],\n",
       "       [ 0.        , 29.88113451,  3.        ],\n",
       "       [ 1.        , 29.88113451,  1.        ],\n",
       "       [ 0.        , 30.        ,  2.        ],\n",
       "       [ 1.        , 57.        ,  1.        ],\n",
       "       [ 1.        , 32.        ,  3.        ],\n",
       "       [ 0.        , 43.        ,  3.        ],\n",
       "       [ 1.        , 29.88113451,  3.        ],\n",
       "       [ 1.        , 26.        ,  3.        ],\n",
       "       [ 1.        , 51.        ,  1.        ],\n",
       "       [ 0.        , 16.        ,  1.        ],\n",
       "       [ 1.        , 32.        ,  2.        ],\n",
       "       [ 1.        , 18.        ,  2.        ],\n",
       "       [ 0.        , 29.88113451,  3.        ],\n",
       "       [ 1.        , 14.        ,  2.        ],\n",
       "       [ 1.        , 21.        ,  2.        ],\n",
       "       [ 0.        , 33.        ,  1.        ],\n",
       "       [ 0.        , 55.        ,  2.        ],\n",
       "       [ 1.        , 44.        ,  3.        ],\n",
       "       [ 1.        , 29.88113451,  3.        ],\n",
       "       [ 1.        , 25.        ,  3.        ],\n",
       "       [ 1.        , 29.88113451,  3.        ],\n",
       "       [ 1.        , 33.        ,  2.        ],\n",
       "       [ 1.        , 22.        ,  3.        ],\n",
       "       [ 0.        , 29.88113451,  3.        ],\n",
       "       [ 1.        , 42.        ,  3.        ],\n",
       "       [ 1.        , 32.        ,  3.        ],\n",
       "       [ 0.        , 29.88113451,  3.        ],\n",
       "       [ 0.        , 37.        ,  1.        ],\n",
       "       [ 0.        ,  4.        ,  2.        ],\n",
       "       [ 1.        , 29.88113451,  3.        ],\n",
       "       [ 0.        , 29.88113451,  3.        ],\n",
       "       [ 1.        , 25.        ,  1.        ],\n",
       "       [ 1.        , 29.        ,  1.        ],\n",
       "       [ 0.        , 29.88113451,  3.        ],\n",
       "       [ 0.        , 27.        ,  3.        ],\n",
       "       [ 0.        , 23.        ,  3.        ],\n",
       "       [ 0.        ,  5.        ,  3.        ],\n",
       "       [ 1.        , 42.        ,  3.        ],\n",
       "       [ 0.        , 26.        ,  3.        ],\n",
       "       [ 1.        , 29.88113451,  1.        ],\n",
       "       [ 1.        , 50.        ,  3.        ],\n",
       "       [ 1.        , 20.        ,  3.        ],\n",
       "       [ 0.        , 45.        ,  1.        ],\n",
       "       [ 1.        , 47.        ,  3.        ],\n",
       "       [ 1.        , 29.88113451,  3.        ],\n",
       "       [ 1.        ,  9.        ,  3.        ],\n",
       "       [ 1.        , 46.        ,  2.        ],\n",
       "       [ 1.        , 49.        ,  3.        ],\n",
       "       [ 1.        , 45.5       ,  1.        ],\n",
       "       [ 0.        , 41.        ,  1.        ],\n",
       "       [ 1.        , 29.        ,  3.        ],\n",
       "       [ 0.        , 27.        ,  3.        ],\n",
       "       [ 0.        , 19.        ,  3.        ],\n",
       "       [ 1.        ,  6.        ,  3.        ],\n",
       "       [ 1.        ,  7.        ,  3.        ],\n",
       "       [ 1.        , 29.88113451,  3.        ],\n",
       "       [ 1.        , 21.        ,  3.        ],\n",
       "       [ 1.        , 29.88113451,  1.        ],\n",
       "       [ 1.        ,  2.        ,  2.        ],\n",
       "       [ 1.        , 29.        ,  3.        ],\n",
       "       [ 1.        , 28.        ,  3.        ],\n",
       "       [ 1.        , 34.        ,  3.        ],\n",
       "       [ 1.        , 47.        ,  1.        ],\n",
       "       [ 1.        , 29.88113451,  3.        ],\n",
       "       [ 1.        , 22.        ,  3.        ],\n",
       "       [ 1.        , 29.        ,  1.        ],\n",
       "       [ 1.        , 36.        ,  3.        ],\n",
       "       [ 1.        , 40.        ,  3.        ],\n",
       "       [ 1.        , 29.88113451,  3.        ],\n",
       "       [ 1.        , 32.        ,  3.        ],\n",
       "       [ 0.        , 47.        ,  3.        ],\n",
       "       [ 1.        , 24.        ,  2.        ],\n",
       "       [ 0.        , 29.88113451,  3.        ],\n",
       "       [ 1.        , 29.        ,  3.        ],\n",
       "       [ 1.        , 39.        ,  1.        ],\n",
       "       [ 0.        , 29.88113451,  3.        ],\n",
       "       [ 1.        , 20.        ,  3.        ],\n",
       "       [ 0.        ,  0.75      ,  3.        ],\n",
       "       [ 1.        , 24.        ,  3.        ],\n",
       "       [ 1.        , 44.        ,  2.        ],\n",
       "       [ 1.        , 30.        ,  1.        ],\n",
       "       [ 1.        , 20.        ,  3.        ],\n",
       "       [ 1.        , 28.        ,  2.        ],\n",
       "       [ 1.        , 40.        ,  3.        ],\n",
       "       [ 0.        , 76.        ,  1.        ],\n",
       "       [ 1.        , 29.88113451,  1.        ],\n",
       "       [ 0.        , 22.        ,  1.        ]])"
      ]
     },
     "execution_count": 64,
     "metadata": {},
     "output_type": "execute_result"
    }
   ],
   "source": [
    "feature_test"
   ]
  },
  {
   "cell_type": "markdown",
   "metadata": {
    "id": "6KAj-ySapeQT"
   },
   "source": [
    "## **Training the Model**\n",
    "\n",
    "We are using Logistic regression model as imported from sklearn library and then it's being trained on feature_train and target_train"
   ]
  },
  {
   "cell_type": "code",
   "execution_count": 63,
   "metadata": {
    "colab": {
     "base_uri": "https://localhost:8080/",
     "height": 72
    },
    "id": "h_G7qIogplcX",
    "outputId": "48837219-c5fd-4dd8-a195-af2ae3ee6708"
   },
   "outputs": [
    {
     "name": "stdout",
     "output_type": "stream",
     "text": [
      "[0. 0. 1. 0. 0. 0. 1. 0. 0. 0. 0. 0. 0. 0. 0. 0. 0. 0. 0. 0. 0. 0. 0. 0.\n",
      " 1. 1. 1. 0. 0. 0. 1. 1. 0. 0. 1. 0. 1. 1. 1. 0. 0. 0. 0. 0. 1. 1. 0. 0.\n",
      " 1. 0. 0. 0. 0. 1. 1. 0. 0. 1. 0. 0. 1. 1. 0. 1. 0. 0. 0. 0. 1. 1. 0. 0.\n",
      " 0. 1. 0. 0. 1. 0. 0. 0. 0. 0. 0. 0. 0. 0. 0. 1. 1. 1. 1. 1. 0. 0. 1. 1.\n",
      " 0. 0. 0. 0. 1. 0. 1. 1. 0. 1. 1. 1. 0. 0. 0. 0. 0. 1. 1. 1. 1. 1. 1. 0.\n",
      " 0. 0. 0. 1. 0. 0. 0. 1. 1. 1. 0. 1. 0. 0. 0. 0. 0. 0. 0. 0. 1. 1. 0. 1.\n",
      " 0. 0. 0. 0. 1. 1. 1. 1. 0. 0. 0. 1. 0. 0. 0. 1. 1. 0. 0. 0. 0. 1. 1. 0.\n",
      " 0. 0. 0. 0. 0. 0. 0. 0. 1. 0. 1. 0. 1. 0. 1. 1. 0. 0. 0. 0. 0. 0. 0. 0.\n",
      " 1. 0. 1. 0. 0. 1. 1. 0. 1. 1. 1. 0. 1. 0. 0. 1. 0. 0. 1. 0. 0. 0. 0. 0.\n",
      " 0. 0. 0. 1. 0. 1. 0. 1. 0. 0. 1. 0. 0. 0. 0. 1. 0. 1. 1. 1. 0. 0. 1. 1.\n",
      " 0. 1. 0. 1. 0. 0. 0. 0. 0. 0. 1. 0. 0. 1. 0. 0. 1. 1. 0. 0. 0. 0. 0. 0.\n",
      " 1. 0. 0. 1. 1. 1. 0. 1. 1. 0. 1. 1. 1. 1. 0. 1. 0. 0. 0. 1. 0. 0. 0. 0.\n",
      " 0. 0. 1. 0. 1. 1. 0. 0. 0. 0. 0. 0. 0. 0. 0. 0. 0. 0. 0. 0. 0. 0. 0. 0.\n",
      " 0. 1. 0. 0. 1. 0. 1. 0. 0. 0. 0. 0. 0. 1. 0. 1.]\n"
     ]
    },
    {
     "name": "stderr",
     "output_type": "stream",
     "text": [
      "/home/muzammil/anaconda3/lib/python3.12/site-packages/sklearn/utils/validation.py:1300: DataConversionWarning: A column-vector y was passed when a 1d array was expected. Please change the shape of y to (n_samples, ), for example using ravel().\n",
      "  y = column_or_1d(y, warn=True)\n"
     ]
    }
   ],
   "source": [
    "model = LogisticRegression()\n",
    "model.fit(feature_train, target_train)\n",
    "predictions = model.predict(feature_test)\n",
    "print(predictions)"
   ]
  },
  {
   "cell_type": "markdown",
   "metadata": {
    "id": "ytDPPFlmpqB-"
   },
   "source": [
    "## **Printing an Error Matrix and Accuracy Score**\n",
    "\n",
    "<img src =\"https://glassboxmedicine.files.wordpress.com/2019/02/confusion-matrix.png?w=816\" height =200>"
   ]
  },
  {
   "cell_type": "code",
   "execution_count": 205,
   "metadata": {
    "colab": {
     "base_uri": "https://localhost:8080/",
     "height": 69
    },
    "id": "uz-PRAE1ppF_",
    "outputId": "6e08dc15-562a-4d8b-a0e8-d41e62cad8aa"
   },
   "outputs": [
    {
     "name": "stdout",
     "output_type": "stream",
     "text": [
      "[[172  37]\n",
      " [ 44  75]]\n",
      "0.7530487804878049\n"
     ]
    }
   ],
   "source": [
    "print(confusion_matrix(target_test,predictions))\n",
    "print(accuracy_score(target_test,predictions))"
   ]
  }
 ],
 "metadata": {
  "colab": {
   "collapsed_sections": [],
   "name": "10_Logistic_Regression.ipynb",
   "provenance": []
  },
  "kernelspec": {
   "display_name": "Python 3 (ipykernel)",
   "language": "python",
   "name": "python3"
  },
  "language_info": {
   "codemirror_mode": {
    "name": "ipython",
    "version": 3
   },
   "file_extension": ".py",
   "mimetype": "text/x-python",
   "name": "python",
   "nbconvert_exporter": "python",
   "pygments_lexer": "ipython3",
   "version": "3.12.4"
  }
 },
 "nbformat": 4,
 "nbformat_minor": 4
}
