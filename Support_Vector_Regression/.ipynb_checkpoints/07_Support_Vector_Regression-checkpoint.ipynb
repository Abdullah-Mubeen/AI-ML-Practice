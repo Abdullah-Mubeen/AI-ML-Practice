{
 "cells": [
  {
   "cell_type": "markdown",
   "metadata": {},
   "source": [
    "Support vector regression (SVR) is a robust machine learning method utilized for forecasting continuous results. The SVR model, unlike typical regression models, employs support vector machines (SVMs) principles to transform input features into high-dimensional spaces to locate the ideal hyperplane that accurately represents the data"
   ]
  },
  {
   "cell_type": "markdown",
   "metadata": {},
   "source": [
    "Support Vector Regression (SVR) is a machine learning algorithm used to predict numbers, like prices, temperatures, or stock values. It’s like drawing a line (or curve) to follow the data as closely as possible but without trying to match every single point exactly.\n",
    "\n"
   ]
  },
  {
   "cell_type": "markdown",
   "metadata": {},
   "source": [
    "# Advantages\n",
    "\n",
    "- **Works well for both simple and complex patterns.**\n",
    "- **Ignores unimportant points** (focuses only on support vectors).\n",
    "- **Can handle both straight-line and non-linear relationships.**\n"
   ]
  },
  {
   "cell_type": "markdown",
   "metadata": {
    "id": "bd99GCamF_BZ"
   },
   "source": [
    "# **Support Vector Regression**\n",
    "\n",
    "SVR gives us the flexibility to define how much error is acceptable in our model and will find an appropriate line (or hyperplane in higher dimensions) to fit the data.\n",
    "\n",
    "\n",
    "<img src=\"https://miro.medium.com/max/1438/1*rs0EfF8RPVpgA-EfgAq85g.jpeg\">\n",
    "\n",
    "The Idea Behind Support Vector Regression\n",
    "The problem of regression is to find a function that approximates mapping from an input domain to real numbers on the basis of a training sample. So let’s now dive deep and understand how SVR works actually.\n",
    "\n",
    "Support Vector Regression\n",
    "\n",
    "Consider these two red lines as the decision boundary and the green line as the hyperplane. Our objective, when we are moving on with SVR, is to basically consider the points that are within the decision boundary line. Our best fit line is the hyperplane that has a maximum number of points.\n",
    "\n",
    "The first thing that we’ll understand is what is the decision boundary (the danger red line above!). Consider these lines as being at any distance, say ‘a’, from the hyperplane. So, these are the lines that we draw at distance ‘+a’ and ‘-a’ from the hyperplane. This ‘a’ in the text is basically referred to as epsilon.\n",
    "\n",
    "Assuming that the equation of the hyperplane is as follows:\n",
    "\n",
    "***Y = wx+b (equation of hyperplane)***\n",
    "\n",
    "Then the equations of decision boundary become:\n",
    "\n",
    "***wx+b= +a***\n",
    "\n",
    "***wx+b= -a***\n",
    "\n",
    "Thus, any hyperplane that satisfies our SVR should satisfy:\n",
    "\n",
    "***-a < Y- wx+b < +a***\n",
    "\n",
    "Our main aim here is to decide a decision boundary at ‘a’ distance from the original hyperplane such that data points closest to the hyperplane or the support vectors are within that boundary line.\n",
    "\n",
    "Hence, we are going to take only those points that are within the decision boundary and have the least error rate, or are within the Margin of Tolerance. This gives us a better fitting model.\n",
    "\n",
    "\n",
    "\n",
    "\n",
    "\n"
   ]
  },
  {
   "cell_type": "markdown",
   "metadata": {},
   "source": [
    "<img src=\"image-375.png\">"
   ]
  },
  {
   "cell_type": "markdown",
   "metadata": {},
   "source": []
  },
  {
   "cell_type": "markdown",
   "metadata": {
    "id": "7PbIXRs_4Fus"
   },
   "source": [
    "## **Getting Started with Support Vector Regression**"
   ]
  },
  {
   "cell_type": "code",
   "execution_count": 1,
   "metadata": {
    "id": "J_SgWUK6DBJC"
   },
   "outputs": [],
   "source": [
    "#importing libraries\n",
    "\n",
    "import numpy as np\n",
    "import pandas as pd\n",
    "import matplotlib.pyplot as plt\n",
    "from sklearn.svm import SVR\n",
    "from sklearn.preprocessing import StandardScaler\n",
    "from sklearn.model_selection import train_test_split"
   ]
  },
  {
   "cell_type": "markdown",
   "metadata": {
    "id": "yLyQEX_PxPCI"
   },
   "source": [
    "## **DataFraming**\n",
    "\n",
    "Read .csv data into a DataFrame"
   ]
  },
  {
   "cell_type": "code",
   "execution_count": 2,
   "metadata": {
    "colab": {
     "base_uri": "https://localhost:8080/",
     "height": 195
    },
    "id": "khIuVsjiHn_1",
    "outputId": "f6fffe64-5cc1-4bfc-b481-6c7731f98232"
   },
   "outputs": [
    {
     "data": {
      "text/html": [
       "<div>\n",
       "<style scoped>\n",
       "    .dataframe tbody tr th:only-of-type {\n",
       "        vertical-align: middle;\n",
       "    }\n",
       "\n",
       "    .dataframe tbody tr th {\n",
       "        vertical-align: top;\n",
       "    }\n",
       "\n",
       "    .dataframe thead th {\n",
       "        text-align: right;\n",
       "    }\n",
       "</style>\n",
       "<table border=\"1\" class=\"dataframe\">\n",
       "  <thead>\n",
       "    <tr style=\"text-align: right;\">\n",
       "      <th></th>\n",
       "      <th>Position</th>\n",
       "      <th>Level</th>\n",
       "      <th>Salary</th>\n",
       "    </tr>\n",
       "  </thead>\n",
       "  <tbody>\n",
       "    <tr>\n",
       "      <th>0</th>\n",
       "      <td>Business Analyst</td>\n",
       "      <td>1</td>\n",
       "      <td>45000</td>\n",
       "    </tr>\n",
       "    <tr>\n",
       "      <th>1</th>\n",
       "      <td>Junior Consultant</td>\n",
       "      <td>2</td>\n",
       "      <td>50000</td>\n",
       "    </tr>\n",
       "    <tr>\n",
       "      <th>2</th>\n",
       "      <td>Senior Consultant</td>\n",
       "      <td>3</td>\n",
       "      <td>60000</td>\n",
       "    </tr>\n",
       "    <tr>\n",
       "      <th>3</th>\n",
       "      <td>Manager</td>\n",
       "      <td>4</td>\n",
       "      <td>80000</td>\n",
       "    </tr>\n",
       "    <tr>\n",
       "      <th>4</th>\n",
       "      <td>Country Manager</td>\n",
       "      <td>5</td>\n",
       "      <td>110000</td>\n",
       "    </tr>\n",
       "  </tbody>\n",
       "</table>\n",
       "</div>"
      ],
      "text/plain": [
       "            Position  Level  Salary\n",
       "0   Business Analyst      1   45000\n",
       "1  Junior Consultant      2   50000\n",
       "2  Senior Consultant      3   60000\n",
       "3            Manager      4   80000\n",
       "4    Country Manager      5  110000"
      ]
     },
     "execution_count": 2,
     "metadata": {},
     "output_type": "execute_result"
    }
   ],
   "source": [
    "dataset = pd.read_csv(\"./Position_Salaries.csv\")\n",
    "\n",
    "dataset.head()"
   ]
  },
  {
   "cell_type": "code",
   "execution_count": 13,
   "metadata": {
    "colab": {
     "base_uri": "https://localhost:8080/"
    },
    "id": "41uL3PZojOxY",
    "outputId": "af1deac7-8ca2-476b-cb1f-cc1132f800c4"
   },
   "outputs": [
    {
     "name": "stdout",
     "output_type": "stream",
     "text": [
      "(10, 1)\n"
     ]
    }
   ],
   "source": [
    "X = dataset.iloc[:,1:2].values.astype(float)\n",
    "y = dataset.iloc[:,2:3].values.astype(float)\n",
    "\n",
    "# print(X)\n",
    "print(y.shape)"
   ]
  },
  {
   "cell_type": "code",
   "execution_count": 14,
   "metadata": {},
   "outputs": [
    {
     "data": {
      "image/png": "[encoded data removed]",
      "text/plain": [
       "<Figure size 1000x600 with 1 Axes>"
      ]
     },
     "metadata": {},
     "output_type": "display_data"
    }
   ],
   "source": []
  },
  {
   "cell_type": "markdown",
   "metadata": {
    "id": "JDsL2-YAxg2H"
   },
   "source": [
    "## **Feature Scaling**\n",
    "\n",
    "Standard Scaler"
   ]
  },
  {
   "cell_type": "markdown",
   "metadata": {},
   "source": [
    "What StandardScaler does is like converting all these numbers to a common, comparable scale. It's similar to converting different currencies to a single currency so you can compare them easily.\n"
   ]
  },
  {
   "cell_type": "code",
   "execution_count": 42,
   "metadata": {
    "id": "cUPQRMvHxoFQ"
   },
   "outputs": [],
   "source": [
    "sc_X = StandardScaler()\n",
    "sc_y = StandardScaler()\n",
    "X = sc_X.fit_transform(X)\n",
    "y = sc_y.fit_transform(y)"
   ]
  },
  {
   "cell_type": "markdown",
   "metadata": {
    "id": "_hooaY-7tZMN"
   },
   "source": [
    "## **Visualizing the Dataset**"
   ]
  },
  {
   "cell_type": "code",
   "execution_count": 43,
   "metadata": {
    "colab": {
     "base_uri": "https://localhost:8080/",
     "height": 265
    },
    "id": "tNT30ec7tZUt",
    "outputId": "be150ede-1efe-41ad-c545-84afde87a30c"
   },
   "outputs": [
    {
     "data": {
      "image/png": "[encoded data removed]",
      "text/plain": [
       "<Figure size 432x288 with 1 Axes>"
      ]
     },
     "metadata": {
      "needs_background": "light",
      "tags": []
     },
     "output_type": "display_data"
    }
   ],
   "source": [
    "plt.scatter(X, y)\n",
    "plt.show()"
   ]
  },
  {
   "cell_type": "markdown",
   "metadata": {
    "id": "c-QrCzDLxjNq"
   },
   "source": [
    "## **Training the Model**\n",
    "We are using Support Vector regression model as imported from sklearn library and then it's being trained on x and y (any 2 major axis of datasets)"
   ]
  },
  {
   "cell_type": "code",
   "execution_count": 44,
   "metadata": {
    "colab": {
     "base_uri": "https://localhost:8080/"
    },
    "id": "t-XSS-hbHsTt",
    "outputId": "afd5e737-e441-46f0-cc22-227c26dbdd82"
   },
   "outputs": [
    {
     "name": "stderr",
     "output_type": "stream",
     "text": [
      "/usr/local/lib/python3.6/dist-packages/sklearn/utils/validation.py:760: DataConversionWarning: A column-vector y was passed when a 1d array was expected. Please change the shape of y to (n_samples, ), for example using ravel().\n",
      "  y = column_or_1d(y, warn=True)\n"
     ]
    },
    {
     "data": {
      "text/plain": [
       "SVR(C=1.0, cache_size=200, coef0=0.0, degree=3, epsilon=0.1, gamma='scale',\n",
       "    kernel='rbf', max_iter=-1, shrinking=True, tol=0.001, verbose=False)"
      ]
     },
     "execution_count": 44,
     "metadata": {
      "tags": []
     },
     "output_type": "execute_result"
    }
   ],
   "source": [
    "model = SVR(kernel = 'rbf')\n",
    "model.fit(X,y)"
   ]
  },
  {
   "cell_type": "markdown",
   "metadata": {
    "id": "vtOVG5e0z6yJ"
   },
   "source": [
    "## **Visualization**\n",
    "\n",
    "Visualize the dataset with the fit model using matplotlib."
   ]
  },
  {
   "cell_type": "code",
   "execution_count": 47,
   "metadata": {
    "colab": {
     "base_uri": "https://localhost:8080/",
     "height": 295
    },
    "id": "QPF_5hXJHsb9",
    "outputId": "61fc36ab-97e9-417d-9581-50465451618c"
   },
   "outputs": [
    {
     "data": {
      "image/png": "[encoded data removed]",
      "text/plain": [
       "<Figure size 432x288 with 1 Axes>"
      ]
     },
     "metadata": {
      "needs_background": "light",
      "tags": []
     },
     "output_type": "display_data"
    }
   ],
   "source": [
    "X_grid = np.arange(min(X), max(X), 0.1)\n",
    "X_grid = X_grid.reshape((len(X_grid), 1))\n",
    "plt.scatter(X, y, color = \"red\")\n",
    "plt.plot(X_grid, model.predict(X_grid), color = \"blue\")\n",
    "plt.title(\"Truth or Bluff (Support Vector Regression Model(High Resolution))\")\n",
    "plt.xlabel(\"Position level\")\n",
    "plt.ylabel(\"Salary\")\n",
    "plt.show()"
   ]
  },
  {
   "cell_type": "markdown",
   "metadata": {
    "id": "pEUC4ruW0Ket"
   },
   "source": [
    "## **Prediction**\n",
    "We will predict the Brain weight by giving an input of Brain Size"
   ]
  },
  {
   "cell_type": "code",
   "execution_count": 49,
   "metadata": {
    "colab": {
     "base_uri": "https://localhost:8080/"
    },
    "id": "DUr0fLtVIDfE",
    "outputId": "6d8fce63-8de4-4d18-d5bf-5e8b26836e08"
   },
   "outputs": [
    {
     "data": {
      "text/plain": [
       "array([557821.75899897])"
      ]
     },
     "execution_count": 49,
     "metadata": {
      "tags": []
     },
     "output_type": "execute_result"
    }
   ],
   "source": [
    "y_pred = sc_y.inverse_transform ((model.predict(sc_X.transform(np.array([[10]])))))\n",
    "y_pred"
   ]
  },
  {
   "cell_type": "markdown",
   "metadata": {
    "id": "QsuiGsygy3oc"
   },
   "source": [
    "## **Comparing it with Polynomial Regression**"
   ]
  },
  {
   "cell_type": "code",
   "execution_count": 65,
   "metadata": {
    "colab": {
     "base_uri": "https://localhost:8080/"
    },
    "id": "BoKqrQJQy3D_",
    "outputId": "09a3f97e-ddb4-48d0-ad8c-39cf59da67bf"
   },
   "outputs": [
    {
     "data": {
      "text/plain": [
       "PolynomialFeatures(degree=3, include_bias=True, interaction_only=False,\n",
       "                   order='C')"
      ]
     },
     "execution_count": 65,
     "metadata": {
      "tags": []
     },
     "output_type": "execute_result"
    }
   ],
   "source": [
    "from sklearn.preprocessing import PolynomialFeatures\n",
    "\n",
    "poly = PolynomialFeatures(degree = 3)\n",
    "X_poly = poly.fit_transform(X)\n",
    "poly.fit(X_poly, y)"
   ]
  },
  {
   "cell_type": "code",
   "execution_count": 66,
   "metadata": {
    "colab": {
     "base_uri": "https://localhost:8080/"
    },
    "id": "hWzG1p5DzhCP",
    "outputId": "33dcddbf-ce2f-4d43-98f1-a26dff238232"
   },
   "outputs": [
    {
     "data": {
      "text/plain": [
       "LinearRegression(copy_X=True, fit_intercept=True, n_jobs=None, normalize=False)"
      ]
     },
     "execution_count": 66,
     "metadata": {
      "tags": []
     },
     "output_type": "execute_result"
    }
   ],
   "source": [
    "#Training the Regressor Model with Polynomial features\n",
    "\n",
    "from sklearn.linear_model import LinearRegression\n",
    "polymodel = LinearRegression()\n",
    "polymodel.fit(X_poly,y)"
   ]
  },
  {
   "cell_type": "code",
   "execution_count": 67,
   "metadata": {
    "colab": {
     "base_uri": "https://localhost:8080/",
     "height": 313
    },
    "id": "AkR-zhkx7J8W",
    "outputId": "4a5cb680-871c-48fa-9db2-787602c244fe"
   },
   "outputs": [
    {
     "data": {
      "text/plain": [
       "Text(0, 0.5, 'Brain Weight')"
      ]
     },
     "execution_count": 67,
     "metadata": {
      "tags": []
     },
     "output_type": "execute_result"
    },
    {
     "data": {
      "image/png": "[encoded data removed]",
      "text/plain": [
       "<Figure size 432x288 with 1 Axes>"
      ]
     },
     "metadata": {
      "needs_background": "light",
      "tags": []
     },
     "output_type": "display_data"
    }
   ],
   "source": [
    "plt.scatter(X,y, color = 'orange')\n",
    "plt.plot(X,polymodel.predict(poly.fit_transform(X)), color = 'black')\n",
    "plt.title('Polynomial Regression')\n",
    "plt.xlabel('Head Size')\n",
    "plt.ylabel('Brain Weight')"
   ]
  }
 ],
 "metadata": {
  "colab": {
   "name": "07_Support_Vector_Regression.ipynb",
   "provenance": []
  },
  "kernelspec": {
   "display_name": "base",
   "language": "python",
   "name": "python3"
  },
  "language_info": {
   "codemirror_mode": {
    "name": "ipython",
    "version": 3
   },
   "file_extension": ".py",
   "mimetype": "text/x-python",
   "name": "python",
   "nbconvert_exporter": "python",
   "pygments_lexer": "ipython3",
   "version": "3.12.4"
  }
 },
 "nbformat": 4,
 "nbformat_minor": 0
}
