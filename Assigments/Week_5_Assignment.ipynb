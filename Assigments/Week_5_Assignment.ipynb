{
 "cells": [
  {
   "cell_type": "markdown",
   "id": "1b54f59a",
   "metadata": {},
   "source": [
    "# Assignment: Real Estate Price Prediction\n",
    "\n",
    "## Instructions\n",
    "\n",
    "1. **Download the Dataset**  \n",
    "   - Use the [Real Estate Price Prediction](https://www.kaggle.com/datasets/quantbruce/real-estate-price-prediction) dataset from Kaggle.\n",
    "\n",
    "2. **Data Preprocessing**  \n",
    "   - Load the dataset and perform any necessary preprocessing (e.g., handling missing values, scaling features, etc.).\n",
    "\n",
    "3. **Model 1: Polynomial Regression**  \n",
    "   - Train a Polynomial Regression model on the dataset.\n",
    "   - Experiment with different polynomial degrees and find the degree that gives the best performance.\n",
    "\n",
    "4. **Model 2: Support Vector Regression (SVR)**  \n",
    "   - Train a Support Vector Regression model using the same dataset.\n",
    "   - Use an appropriate kernel (e.g., RBF or polynomial) and tune the hyperparameters.\n",
    "\n",
    "5. **Comparison**  \n",
    "   - Evaluate both models using appropriate metrics (e.g., Mean Squared Error, R²).\n",
    "   - Compare the performance of Polynomial Regression and SVR.\n",
    "\n",
    "6. **Report**  \n",
    "   - Present your results, including:\n",
    "     - The best hyperparameters and polynomial degree.\n",
    "     - Metrics for both models.\n",
    "     - A brief discussion on which model performed better and why.\n",
    "\n",
    "7. **Submission**  \n",
    "   - Submit your code, the trained models, and a short report summarizing your findings.\n"
   ]
  }
 ],
 "metadata": {
  "kernelspec": {
   "display_name": "Python 3",
   "language": "python",
   "name": "python3"
  },
  "language_info": {
   "codemirror_mode": {
    "name": "ipython",
    "version": 3
   },
   "file_extension": ".py",
   "mimetype": "text/x-python",
   "name": "python",
   "nbconvert_exporter": "python",
   "pygments_lexer": "ipython3",
   "version": "3.12.2"
  }
 },
 "nbformat": 4,
 "nbformat_minor": 5
}
