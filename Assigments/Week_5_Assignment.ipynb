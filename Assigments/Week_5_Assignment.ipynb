{
 "cells": [
  {
   "cell_type": "markdown",
   "id": "1b54f59a",
   "metadata": {},
   "source": [
    "# Assignment: Real Estate Price Prediction\n",
    "\n",
    "## Instructions\n",
    "\n",
    "1. **Download the Dataset**  \n",
    "   - Use the [Real Estate Price Prediction](https://www.kaggle.com/datasets/quantbruce/real-estate-price-prediction) dataset from Kaggle.\n",
    "\n",
    "2. **Data Preprocessing**  \n",
    "   - Load the dataset and perform any necessary preprocessing (e.g., handling missing values, scaling features, etc.).\n",
    "\n",
    "3. **Model 1: Polynomial Regression**  \n",
    "   - Train a Polynomial Regression model on the dataset.\n",
    "   - Experiment with different polynomial degrees and find the degree that gives the best performance.\n",
    "\n",
    "4. **Model 2: Support Vector Regression (SVR)**  \n",
    "   - Train a Support Vector Regression model using the same dataset.\n",
    "   - Use an appropriate kernel (e.g., RBF or polynomial) and tune the hyperparameters.\n",
    "\n",
    "5. **Comparison**  \n",
    "   - Evaluate both models using appropriate metrics (e.g., Mean Squared Error, R²).\n",
    "   - Compare the performance of Polynomial Regression and SVR.\n",
    "\n",
    "6. **Report**  \n",
    "   - Present your results, including:\n",
    "     - The best hyperparameters and polynomial degree.\n",
    "     - Metrics for both models.\n",
    "     - A brief discussion on which model performed better and why.\n",
    "\n",
    "7. **Submission**  \n",
    "   - Submit your code, the trained models, and a short report summarizing your findings.\n"
   ]
  },
  {
   "cell_type": "code",
   "execution_count": 29,
   "id": "70222ebf",
   "metadata": {},
   "outputs": [],
   "source": [
    "# Import necessary libraries\n",
    "import pandas as pd\n",
    "import numpy as np\n",
    "from sklearn.model_selection import train_test_split\n",
    "from sklearn.preprocessing import StandardScaler, PolynomialFeatures\n",
    "from sklearn.linear_model import LinearRegression\n",
    "from sklearn.svm import SVR\n",
    "from sklearn.metrics import mean_squared_error, r2_score\n",
    "from sklearn.model_selection import GridSearchCV\n",
    "import matplotlib.pyplot as plt\n"
   ]
  },
  {
   "cell_type": "code",
   "execution_count": 30,
   "id": "edb57fcc",
   "metadata": {},
   "outputs": [
    {
     "data": {
      "text/plain": [
       "No                                        0\n",
       "X1 transaction date                       0\n",
       "X2 house age                              0\n",
       "X3 distance to the nearest MRT station    0\n",
       "X4 number of convenience stores           0\n",
       "X5 latitude                               0\n",
       "X6 longitude                              0\n",
       "Y house price of unit area                0\n",
       "dtype: int64"
      ]
     },
     "execution_count": 30,
     "metadata": {},
     "output_type": "execute_result"
    }
   ],
   "source": [
    "df = pd.read_csv('./Dataset/Real estate.csv')\n",
    "df.isnull().sum()"
   ]
  },
  {
   "cell_type": "code",
   "execution_count": 31,
   "id": "40eb9403",
   "metadata": {},
   "outputs": [],
   "source": [
    "X = df.drop(columns=['Y house price of unit area'])\n",
    "y = df['Y house price of unit area']"
   ]
  },
  {
   "cell_type": "code",
   "execution_count": 32,
   "id": "60a88862",
   "metadata": {},
   "outputs": [],
   "source": [
    "X_train, X_test, y_train, y_test = train_test_split(X, y, test_size=0.2, random_state=42)"
   ]
  },
  {
   "cell_type": "code",
   "execution_count": 33,
   "id": "835b1b09",
   "metadata": {},
   "outputs": [],
   "source": [
    "scaler = StandardScaler()\n",
    "X_train_scaled = scaler.fit_transform(X_train)\n",
    "X_test_scaled = scaler.transform(X_test)"
   ]
  },
  {
   "cell_type": "code",
   "execution_count": 34,
   "id": "b251a23f",
   "metadata": {},
   "outputs": [
    {
     "name": "stdout",
     "output_type": "stream",
     "text": [
      "Degree: 2, MSE: 41.99\n",
      "Degree: 3, MSE: 1650.71\n",
      "Degree: 4, MSE: 102926059.67\n",
      "Degree: 5, MSE: 73749.55\n",
      "\n",
      "Best Polynomial Degree: 2, Best MSE: 41.99\n"
     ]
    }
   ],
   "source": [
    "# Try different polynomial degrees\n",
    "degrees = [2, 3, 4, 5]\n",
    "best_degree = 0\n",
    "best_mse = float('inf')\n",
    "\n",
    "for degree in degrees:\n",
    "    # Transform features\n",
    "    poly = PolynomialFeatures(degree=degree)\n",
    "    X_train_poly = poly.fit_transform(X_train_scaled)\n",
    "    X_test_poly = poly.transform(X_test_scaled)\n",
    "\n",
    "    # Train a Linear Regression model\n",
    "    model = LinearRegression()\n",
    "    model.fit(X_train_poly, y_train)\n",
    "\n",
    "    # Evaluate on the test set\n",
    "    y_pred = model.predict(X_test_poly)\n",
    "    mse = mean_squared_error(y_test, y_pred)\n",
    "    print(f\"Degree: {degree}, MSE: {mse:.2f}\")\n",
    "\n",
    "    # Keep track of the best degree\n",
    "    if mse < best_mse:\n",
    "        best_mse = mse\n",
    "        best_degree = degree\n",
    "\n",
    "print(f\"\\nBest Polynomial Degree: {best_degree}, Best MSE: {best_mse:.2f}\")\n"
   ]
  },
  {
   "cell_type": "code",
   "execution_count": 35,
   "id": "5db958da",
   "metadata": {},
   "outputs": [
    {
     "name": "stdout",
     "output_type": "stream",
     "text": [
      "Fitting 3 folds for each of 24 candidates, totalling 72 fits\n",
      "[CV] END ........C=0.1, epsilon=0.1, gamma=scale, kernel=rbf; total time=   0.0s\n",
      "[CV] END ........C=0.1, epsilon=0.1, gamma=scale, kernel=rbf; total time=   0.0s\n",
      "[CV] END ........C=0.1, epsilon=0.1, gamma=scale, kernel=rbf; total time=   0.0s\n",
      "[CV] END .......C=0.1, epsilon=0.1, gamma=scale, kernel=poly; total time=   0.0s\n",
      "[CV] END .......C=0.1, epsilon=0.1, gamma=scale, kernel=poly; total time=   0.0s\n",
      "[CV] END .......C=0.1, epsilon=0.1, gamma=scale, kernel=poly; total time=   0.0s\n",
      "[CV] END .........C=0.1, epsilon=0.1, gamma=auto, kernel=rbf; total time=   0.0s\n",
      "[CV] END .........C=0.1, epsilon=0.1, gamma=auto, kernel=rbf; total time=   0.0s\n",
      "[CV] END .........C=0.1, epsilon=0.1, gamma=auto, kernel=rbf; total time=   0.0s\n",
      "[CV] END ........C=0.1, epsilon=0.1, gamma=auto, kernel=poly; total time=   0.0s\n",
      "[CV] END ........C=0.1, epsilon=0.1, gamma=auto, kernel=poly; total time=   0.0s\n",
      "[CV] END ........C=0.1, epsilon=0.1, gamma=auto, kernel=poly; total time=   0.0s\n",
      "[CV] END ........C=0.1, epsilon=0.2, gamma=scale, kernel=rbf; total time=   0.0s\n",
      "[CV] END ........C=0.1, epsilon=0.2, gamma=scale, kernel=rbf; total time=   0.0s\n",
      "[CV] END ........C=0.1, epsilon=0.2, gamma=scale, kernel=rbf; total time=   0.0s\n",
      "[CV] END .......C=0.1, epsilon=0.2, gamma=scale, kernel=poly; total time=   0.0s\n",
      "[CV] END .......C=0.1, epsilon=0.2, gamma=scale, kernel=poly; total time=   0.0s\n",
      "[CV] END .......C=0.1, epsilon=0.2, gamma=scale, kernel=poly; total time=   0.0s\n",
      "[CV] END .........C=0.1, epsilon=0.2, gamma=auto, kernel=rbf; total time=   0.0s\n",
      "[CV] END .........C=0.1, epsilon=0.2, gamma=auto, kernel=rbf; total time=   0.0s\n",
      "[CV] END .........C=0.1, epsilon=0.2, gamma=auto, kernel=rbf; total time=   0.0s\n",
      "[CV] END ........C=0.1, epsilon=0.2, gamma=auto, kernel=poly; total time=   0.0s\n",
      "[CV] END ........C=0.1, epsilon=0.2, gamma=auto, kernel=poly; total time=   0.0s\n",
      "[CV] END ........C=0.1, epsilon=0.2, gamma=auto, kernel=poly; total time=   0.0s\n",
      "[CV] END ..........C=1, epsilon=0.1, gamma=scale, kernel=rbf; total time=   0.0s\n",
      "[CV] END ..........C=1, epsilon=0.1, gamma=scale, kernel=rbf; total time=   0.0s\n",
      "[CV] END ..........C=1, epsilon=0.1, gamma=scale, kernel=rbf; total time=   0.0s\n",
      "[CV] END .........C=1, epsilon=0.1, gamma=scale, kernel=poly; total time=   0.0s\n",
      "[CV] END .........C=1, epsilon=0.1, gamma=scale, kernel=poly; total time=   0.0s\n",
      "[CV] END .........C=1, epsilon=0.1, gamma=scale, kernel=poly; total time=   0.0s\n",
      "[CV] END ...........C=1, epsilon=0.1, gamma=auto, kernel=rbf; total time=   0.0s\n",
      "[CV] END ...........C=1, epsilon=0.1, gamma=auto, kernel=rbf; total time=   0.0s\n",
      "[CV] END ...........C=1, epsilon=0.1, gamma=auto, kernel=rbf; total time=   0.0s\n",
      "[CV] END ..........C=1, epsilon=0.1, gamma=auto, kernel=poly; total time=   0.0s\n",
      "[CV] END ..........C=1, epsilon=0.1, gamma=auto, kernel=poly; total time=   0.0s\n",
      "[CV] END ..........C=1, epsilon=0.1, gamma=auto, kernel=poly; total time=   0.0s\n",
      "[CV] END ..........C=1, epsilon=0.2, gamma=scale, kernel=rbf; total time=   0.0s\n",
      "[CV] END ..........C=1, epsilon=0.2, gamma=scale, kernel=rbf; total time=   0.0s\n",
      "[CV] END ..........C=1, epsilon=0.2, gamma=scale, kernel=rbf; total time=   0.0s\n",
      "[CV] END .........C=1, epsilon=0.2, gamma=scale, kernel=poly; total time=   0.0s\n",
      "[CV] END .........C=1, epsilon=0.2, gamma=scale, kernel=poly; total time=   0.0s\n",
      "[CV] END .........C=1, epsilon=0.2, gamma=scale, kernel=poly; total time=   0.0s\n",
      "[CV] END ...........C=1, epsilon=0.2, gamma=auto, kernel=rbf; total time=   0.0s\n",
      "[CV] END ...........C=1, epsilon=0.2, gamma=auto, kernel=rbf; total time=   0.0s\n",
      "[CV] END ...........C=1, epsilon=0.2, gamma=auto, kernel=rbf; total time=   0.0s\n",
      "[CV] END ..........C=1, epsilon=0.2, gamma=auto, kernel=poly; total time=   0.0s\n",
      "[CV] END ..........C=1, epsilon=0.2, gamma=auto, kernel=poly; total time=   0.0s\n",
      "[CV] END ..........C=1, epsilon=0.2, gamma=auto, kernel=poly; total time=   0.0s\n",
      "[CV] END .........C=10, epsilon=0.1, gamma=scale, kernel=rbf; total time=   0.0s\n",
      "[CV] END .........C=10, epsilon=0.1, gamma=scale, kernel=rbf; total time=   0.0s\n",
      "[CV] END .........C=10, epsilon=0.1, gamma=scale, kernel=rbf; total time=   0.0s\n",
      "[CV] END ........C=10, epsilon=0.1, gamma=scale, kernel=poly; total time=   0.0s\n",
      "[CV] END ........C=10, epsilon=0.1, gamma=scale, kernel=poly; total time=   0.0s\n",
      "[CV] END ........C=10, epsilon=0.1, gamma=scale, kernel=poly; total time=   0.0s\n",
      "[CV] END ..........C=10, epsilon=0.1, gamma=auto, kernel=rbf; total time=   0.0s\n",
      "[CV] END ..........C=10, epsilon=0.1, gamma=auto, kernel=rbf; total time=   0.0s\n",
      "[CV] END ..........C=10, epsilon=0.1, gamma=auto, kernel=rbf; total time=   0.0s\n",
      "[CV] END .........C=10, epsilon=0.1, gamma=auto, kernel=poly; total time=   0.0s\n",
      "[CV] END .........C=10, epsilon=0.1, gamma=auto, kernel=poly; total time=   0.0s\n",
      "[CV] END .........C=10, epsilon=0.1, gamma=auto, kernel=poly; total time=   0.0s\n",
      "[CV] END .........C=10, epsilon=0.2, gamma=scale, kernel=rbf; total time=   0.0s\n",
      "[CV] END .........C=10, epsilon=0.2, gamma=scale, kernel=rbf; total time=   0.0s\n",
      "[CV] END .........C=10, epsilon=0.2, gamma=scale, kernel=rbf; total time=   0.0s\n",
      "[CV] END ........C=10, epsilon=0.2, gamma=scale, kernel=poly; total time=   0.0s\n",
      "[CV] END ........C=10, epsilon=0.2, gamma=scale, kernel=poly; total time=   0.0s\n",
      "[CV] END ........C=10, epsilon=0.2, gamma=scale, kernel=poly; total time=   0.0s\n",
      "[CV] END ..........C=10, epsilon=0.2, gamma=auto, kernel=rbf; total time=   0.0s\n",
      "[CV] END ..........C=10, epsilon=0.2, gamma=auto, kernel=rbf; total time=   0.0s\n",
      "[CV] END ..........C=10, epsilon=0.2, gamma=auto, kernel=rbf; total time=   0.0s\n",
      "[CV] END .........C=10, epsilon=0.2, gamma=auto, kernel=poly; total time=   0.0s\n",
      "[CV] END .........C=10, epsilon=0.2, gamma=auto, kernel=poly; total time=   0.0s\n",
      "[CV] END .........C=10, epsilon=0.2, gamma=auto, kernel=poly; total time=   0.0s\n",
      "Best SVR Parameters: {'C': 10, 'epsilon': 0.2, 'gamma': 'auto', 'kernel': 'rbf'}\n",
      "SVR MSE: 43.72, R²: 0.74\n"
     ]
    }
   ],
   "source": [
    "from sklearn.model_selection import GridSearchCV\n",
    "\n",
    "\n",
    "# Define parameter grid for GridSearch\n",
    "param_grid = {\n",
    "    'kernel': ['rbf', 'poly'],\n",
    "    'C': [0.1, 1, 10],\n",
    "    'epsilon': [0.1, 0.2],\n",
    "    'gamma': ['scale', 'auto']\n",
    "}\n",
    "\n",
    "# Create and train the SVR model with GridSearch\n",
    "svr = SVR()\n",
    "grid_search = GridSearchCV(svr, param_grid, cv=3, scoring='neg_mean_squared_error', verbose=2)\n",
    "grid_search.fit(X_train_scaled, y_train)\n",
    "\n",
    "# Best SVR model\n",
    "best_svr = grid_search.best_estimator_\n",
    "print(\"Best SVR Parameters:\", grid_search.best_params_)\n",
    "\n",
    "# Evaluate SVR\n",
    "y_pred_svr = best_svr.predict(X_test_scaled)\n",
    "mse_svr = mean_squared_error(y_test, y_pred_svr)\n",
    "r2_svr = r2_score(y_test, y_pred_svr)\n",
    "\n",
    "print(f\"SVR MSE: {mse_svr:.2f}, R²: {r2_svr:.2f}\")\n"
   ]
  },
  {
   "cell_type": "code",
   "execution_count": 37,
   "id": "479c8c65",
   "metadata": {},
   "outputs": [
    {
     "name": "stdout",
     "output_type": "stream",
     "text": [
      "Polynomial Regression - MSE: 41.99, R²: 0.75\n"
     ]
    }
   ],
   "source": [
    "# Generate polynomial features using the best degree (this should match training transformation)\n",
    "poly = PolynomialFeatures(degree=best_degree)\n",
    "X_train_poly = poly.fit_transform(X_train_scaled)  # Used for training\n",
    "X_test_poly = poly.transform(X_test_scaled)       # Used for prediction\n",
    "\n",
    "# Refit the model using the best degree's transformation\n",
    "model = LinearRegression()\n",
    "model.fit(X_train_poly, y_train)\n",
    "\n",
    "# Predict on the transformed test set\n",
    "y_pred_poly = model.predict(X_test_poly)\n",
    "\n",
    "# Evaluate performance\n",
    "mse_poly = mean_squared_error(y_test, y_pred_poly)\n",
    "r2_poly = r2_score(y_test, y_pred_poly)\n",
    "\n",
    "print(f\"Polynomial Regression - MSE: {mse_poly:.2f}, R²: {r2_poly:.2f}\")\n"
   ]
  }
 ],
 "metadata": {
  "kernelspec": {
   "display_name": "Python 3",
   "language": "python",
   "name": "python3"
  },
  "language_info": {
   "codemirror_mode": {
    "name": "ipython",
    "version": 3
   },
   "file_extension": ".py",
   "mimetype": "text/x-python",
   "name": "python",
   "nbconvert_exporter": "python",
   "pygments_lexer": "ipython3",
   "version": "3.12.2"
  }
 },
 "nbformat": 4,
 "nbformat_minor": 5
}
