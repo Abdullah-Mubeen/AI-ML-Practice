{
 "cells": [
  {
   "cell_type": "markdown",
   "id": "681e662c-7cae-4883-851f-41c1cbfbf189",
   "metadata": {},
   "source": [
    "\n",
    "### 1. **Pattern Printing**\n",
    "Use a for loop to print the following pattern:\n",
    "\n",
    "```plaintext\n",
    "1  \n",
    "1 2  \n",
    "1 2 3  \n",
    "1 2 3 4  \n",
    "1 2 3 4 5  \n"
   ]
  },
  {
   "cell_type": "code",
   "execution_count": 1,
   "id": "286c47f9",
   "metadata": {},
   "outputs": [
    {
     "name": "stdout",
     "output_type": "stream",
     "text": [
      "1         \n",
      "1 2       \n",
      "1 2 3     \n",
      "1 2 3 4   \n",
      "1 2 3 4 5 \n"
     ]
    }
   ],
   "source": [
    "n = 6\n",
    "for i in range(1, n):\n",
    "   for j in range(1, n):\n",
    "      if j <= i:\n",
    "         print(j, end=\" \")\n",
    "      else:\n",
    "         print(\" \", end=\" \")\n",
    "\n",
    "   print()"
   ]
  },
  {
   "cell_type": "markdown",
   "id": "a8625c93-9b04-4baf-9db0-730b6477eb60",
   "metadata": {},
   "source": [
    "\n",
    "### 2. **Square of List Elements**  \n",
    "Given a list `[1, 2, 3, 4, 5]`, use a for loop to print the square of each element.\n",
    "\n"
   ]
  },
  {
   "cell_type": "code",
   "execution_count": 8,
   "id": "f50c38f1",
   "metadata": {},
   "outputs": [
    {
     "name": "stdout",
     "output_type": "stream",
     "text": [
      "1\n",
      "4\n",
      "9\n",
      "16\n",
      "25\n"
     ]
    }
   ],
   "source": [
    "lst = [1, 2, 3, 4, 5]\n",
    "\n",
    "for numbers in lst:\n",
    "    print(numbers ** 2)\n",
    "\n"
   ]
  },
  {
   "cell_type": "markdown",
   "id": "b36abfc2-3b4c-4c83-9e64-6052a8bfafdd",
   "metadata": {},
   "source": [
    "\n",
    "### 3. **Number Guessing Game**  \n",
    "Write a program that randomly selects a number between 1 and 10.  \n",
    "The user has to keep guessing the number until they get it right.  \n",
    "Use a while loop to keep asking the user.\n",
    "\n"
   ]
  },
  {
   "cell_type": "code",
   "execution_count": 4,
   "id": "a3a418f9",
   "metadata": {},
   "outputs": [
    {
     "name": "stdout",
     "output_type": "stream",
     "text": [
      "The number you guess is lesser\n",
      "The number you guess is lesser\n",
      "Please enter number from 1-10\n",
      "Please enter number from 1-10\n",
      "Bingo!! You have guess the right number\n"
     ]
    }
   ],
   "source": [
    "random_numbers = 10\n",
    "\n",
    "\n",
    "while True:\n",
    "    guess_number = int(input(\"Guess the number the number is between (1-10): \"))\n",
    "\n",
    "    try:\n",
    "        if guess_number <= 0:\n",
    "            print(\"Enter positive number\")\n",
    "            continue\n",
    "        elif guess_number > 10:\n",
    "            print(\"Please enter number from 1-10\")\n",
    "            continue\n",
    "    except:\n",
    "        print(\"\")\n",
    "        continue\n",
    "\n",
    "\n",
    "    if guess_number > random_numbers:\n",
    "        print(\"The number you guess is greater\")\n",
    "    elif guess_number < random_numbers:\n",
    "         print(\"The number you guess is lesser\")\n",
    "    elif guess_number == random_numbers:\n",
    "        print(\"Bingo!! You have guess the right number\")\n",
    "        break;\n",
    "    else:\n",
    "        print(\"invalid\")\n"
   ]
  },
  {
   "cell_type": "markdown",
   "id": "6c3c9aba-c375-48be-93c5-1b96dca0d691",
   "metadata": {},
   "source": [
    "\n",
    "### 4. **Sum of Natural Numbers**  \n",
    "Use a while loop to calculate the sum of natural numbers up to `n`.  \n",
    "For example, if `n = 5`, the sum will be `1 + 2 + 3 + 4 + 5 = 15`.\n",
    "\n"
   ]
  },
  {
   "cell_type": "code",
   "execution_count": null,
   "id": "02b3ada6",
   "metadata": {},
   "outputs": [
    {
     "name": "stdout",
     "output_type": "stream",
     "text": [
      "5\n"
     ]
    }
   ],
   "source": [
    "# \n",
    "\n",
    "\n",
    "n = 5\n",
    "\n",
    "while n <= 5:\n",
    "    print(n)\n",
    "    n+=1"
   ]
  },
  {
   "cell_type": "markdown",
   "id": "ca42a478-2e5a-4215-bb1f-449a9994dfb1",
   "metadata": {},
   "source": [
    "\n",
    "### 5. **Set Intersection**  \n",
    "Given two sets `A = {1, 2, 3, 4}` and `B = {3, 4, 5, 6}`, write a program to find and print the intersection.\n",
    "\n"
   ]
  },
  {
   "cell_type": "code",
   "execution_count": 2,
   "id": "50496f80",
   "metadata": {},
   "outputs": [
    {
     "name": "stdout",
     "output_type": "stream",
     "text": [
      "The common(intersection) in the both list is {3, 4}\n"
     ]
    }
   ],
   "source": [
    "A = {1, 2, 3, 4}\n",
    "B = {3, 4, 5, 6}\n",
    "\n",
    "AB = A.intersection(B)\n",
    "\n",
    "print(f\"The common(intersection) in the both list is {AB}\")"
   ]
  },
  {
   "cell_type": "markdown",
   "id": "f8decd70-80ab-4712-a546-8e6e23e74bb6",
   "metadata": {},
   "source": [
    "\n",
    "### 6. **Check Prime Number**  \n",
    "Write a function `is_prime(n)` that returns `True` if the given number `n` is prime, otherwise `False`.\n"
   ]
  },
  {
   "cell_type": "code",
   "execution_count": 16,
   "id": "aeca2d0e",
   "metadata": {},
   "outputs": [
    {
     "name": "stdout",
     "output_type": "stream",
     "text": [
      "Enter numbers from 1 to 10\n",
      "The list of numbers you entered is: [3123, 12, 1, 3, 2, 2, 2, 312, 23, 22]\n",
      "The maximum number you entered is: 3123\n"
     ]
    }
   ],
   "source": [
    "def find_max(numbers):\n",
    "    return max(numbers)\n",
    "\n",
    "lst_size = 10\n",
    "numbers = []\n",
    "\n",
    "print(\"Enter numbers from 1 to 10\")\n",
    "for i in range(lst_size):\n",
    "    x = int(input(f\"Enter your {i + 1} number: \"))\n",
    "    numbers.append(x)\n",
    "\n",
    "print(\"The list of numbers you entered is:\", numbers)\n",
    "print(\"The maximum number you entered is:\", find_max(numbers))\n",
    "\n",
    "\n",
    "\n"
   ]
  },
  {
   "cell_type": "markdown",
   "id": "645a0295-c9fd-4147-af19-f30bbada6c31",
   "metadata": {},
   "source": [
    "\n",
    "### 7. **Find Maximum in a List**  \n",
    "Write a function `find_max(numbers)` that takes a list of numbers as input and returns the maximum value.\n",
    "\n",
    "\n",
    "\n",
    "\n",
    "\n"
   ]
  },
  {
   "cell_type": "code",
   "execution_count": null,
   "id": "8f48239d",
   "metadata": {},
   "outputs": [],
   "source": [
    "lst_size = 10\n",
    "numbers = []\n",
    "\n",
    "print(\"Enter number from 1-10\")\n",
    "for i in range(lst_size):\n",
    "    x = int(input(f\"Enter your {i + 1} number : \"))\n",
    "    numbers.append(x)\n",
    "\n",
    "print(\"The list of numbers you entered is:\", numbers)\n",
    "print(\"The list of numbers you entered is:\", max(numbers))\n",
    "\n"
   ]
  },
  {
   "cell_type": "markdown",
   "id": "bfbad4f5-a131-41cf-9c9a-e5de2bade015",
   "metadata": {},
   "source": [
    "# 8: Fastapi Task (Optional)\n",
    "\n",
    "Basic Calculator Endpoints  \n",
    "\n",
    "## Task:\n",
    "Create **endpoints** to perform the four basic arithmetic operations using **FastAPI**.\n",
    "\n",
    "### Operations to Implement:\n",
    "1. **Addition**\n",
    "2. **Subtraction**\n",
    "3. **Multiplication**\n",
    "4. **Division**\n",
    "\n",
    "---\n",
    "\n",
    "## Endpoints to Implement:\n",
    "\n",
    "### 1. **Addition**\n",
    "- **Route:** `GET /add/{num1}/{num2}`  \n",
    "- **Functionality:** Returns the sum of `num1` and `num2`.  \n",
    "- **Example Response:**\n",
    "    ```json\n",
    "    {\n",
    "        \"result\": 8\n",
    "    }\n",
    "    ```\n",
    "\n",
    "---\n",
    "\n",
    "### 2. **Subtraction**\n",
    "- **Route:** `GET /subtract/{num1}/{num2}`  \n",
    "- **Functionality:** Returns the result of `num1 - num2`.  \n",
    "- **Example Response:**\n",
    "    ```json\n",
    "    {\n",
    "        \"result\": 2\n",
    "    }\n",
    "    ```\n",
    "\n",
    "---\n"
   ]
  },
  {
   "cell_type": "code",
   "execution_count": null,
   "id": "309867be-3166-427e-b00e-97a98673a402",
   "metadata": {},
   "outputs": [],
   "source": []
  },
  {
   "cell_type": "code",
   "execution_count": null,
   "id": "459dcfad-93b6-42fb-96ca-963303f94f2f",
   "metadata": {},
   "outputs": [],
   "source": []
  }
 ],
 "metadata": {
  "kernelspec": {
   "display_name": "Python 3",
   "language": "python",
   "name": "python3"
  },
  "language_info": {
   "codemirror_mode": {
    "name": "ipython",
    "version": 3
   },
   "file_extension": ".py",
   "mimetype": "text/x-python",
   "name": "python",
   "nbconvert_exporter": "python",
   "pygments_lexer": "ipython3",
   "version": "3.12.2"
  }
 },
 "nbformat": 4,
 "nbformat_minor": 5
}
