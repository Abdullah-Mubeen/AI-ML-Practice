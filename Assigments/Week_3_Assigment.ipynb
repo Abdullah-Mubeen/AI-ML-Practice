{
 "cells": [
  {
   "cell_type": "code",
   "execution_count": 4,
   "id": "4d2bfc7d",
   "metadata": {},
   "outputs": [],
   "source": [
    "from matplotlib import pyplot as plt\n",
    "import numpy as np\n",
    "import pandas as pd"
   ]
  },
  {
   "cell_type": "markdown",
   "id": "9c1aec37-2259-4910-a171-22baa9876e73",
   "metadata": {},
   "source": [
    "# Question 1\n",
    "\n",
    "## Create a DataFrame\n",
    "**Task**: Create a DataFrame with the following data:\n",
    "\n",
    "| Name    | Age | Grade |\n",
    "|---------|-----|-------|\n",
    "| Alice   | 20  | A     |\n",
    "| Bob     | 21  | B     |\n",
    "| Charlie | 19  | C     |\n",
    "| David   | 22  | B     |\n",
    "\n",
    "## Access a Column\n",
    "**Task**: Access and display the \"Grade\" column from your DataFrame.\n",
    "\n",
    "## Count Unique Values\n",
    "**Task**: Using the \"Grade\" column, count the unique grades present in the DataFrame.\n",
    "\n",
    "## Save to CSV\n",
    "**Task**: Save the DataFrame to a CSV file named \"students.csv\".\n",
    "\n",
    "## Load from CSV\n",
    "**Task**: Load the \"students.csv\" file you created into a new DataFrame.\n",
    "\n",
    "## Display Summary Statistics\n",
    "**Task**: Use the DataFrame to display summary statistics (like mean, median) for the \"Age\" column."
   ]
  },
  {
   "cell_type": "code",
   "execution_count": 18,
   "id": "e75bb504",
   "metadata": {},
   "outputs": [
    {
     "data": {
      "text/plain": [
       "0    A\n",
       "1    B\n",
       "2    C\n",
       "3    B\n",
       "4    A\n",
       "Name: Grade, dtype: object"
      ]
     },
     "execution_count": 18,
     "metadata": {},
     "output_type": "execute_result"
    }
   ],
   "source": [
    "students_data = {\n",
    "    'Name': [\"Ali\", \"Babar\", \"Bashir\", \"Chahat\", \"Daniyal\"],\n",
    "    'Age': [20, 21, 19, 22, 24],\n",
    "    'Grade': ['A', 'B', 'C', 'B', 'A']\n",
    "}\n",
    "\n",
    "df = pd.DataFrame(students_data)\n",
    "df['Grade']"
   ]
  },
  {
   "cell_type": "code",
   "execution_count": 17,
   "id": "93776530",
   "metadata": {},
   "outputs": [
    {
     "data": {
      "text/plain": [
       "Grade\n",
       "A    2\n",
       "B    2\n",
       "C    1\n",
       "Name: count, dtype: int64"
      ]
     },
     "execution_count": 17,
     "metadata": {},
     "output_type": "execute_result"
    }
   ],
   "source": [
    "df['Grade'].value_counts()"
   ]
  },
  {
   "cell_type": "code",
   "execution_count": 21,
   "id": "c3c891b2",
   "metadata": {},
   "outputs": [
    {
     "name": "stdout",
     "output_type": "stream",
     "text": [
      "Successfully saved\n"
     ]
    }
   ],
   "source": [
    "df.to_csv('students.csv')\n",
    "print(\"Successfully saved\")"
   ]
  },
  {
   "cell_type": "code",
   "execution_count": 22,
   "id": "f9e46a74",
   "metadata": {},
   "outputs": [
    {
     "data": {
      "text/html": [
       "<div>\n",
       "<style scoped>\n",
       "    .dataframe tbody tr th:only-of-type {\n",
       "        vertical-align: middle;\n",
       "    }\n",
       "\n",
       "    .dataframe tbody tr th {\n",
       "        vertical-align: top;\n",
       "    }\n",
       "\n",
       "    .dataframe thead th {\n",
       "        text-align: right;\n",
       "    }\n",
       "</style>\n",
       "<table border=\"1\" class=\"dataframe\">\n",
       "  <thead>\n",
       "    <tr style=\"text-align: right;\">\n",
       "      <th></th>\n",
       "      <th>Unnamed: 0</th>\n",
       "      <th>Name</th>\n",
       "      <th>Age</th>\n",
       "      <th>Grade</th>\n",
       "    </tr>\n",
       "  </thead>\n",
       "  <tbody>\n",
       "    <tr>\n",
       "      <th>0</th>\n",
       "      <td>0</td>\n",
       "      <td>Ali</td>\n",
       "      <td>20</td>\n",
       "      <td>A</td>\n",
       "    </tr>\n",
       "    <tr>\n",
       "      <th>1</th>\n",
       "      <td>1</td>\n",
       "      <td>Babar</td>\n",
       "      <td>21</td>\n",
       "      <td>B</td>\n",
       "    </tr>\n",
       "    <tr>\n",
       "      <th>2</th>\n",
       "      <td>2</td>\n",
       "      <td>Bashir</td>\n",
       "      <td>19</td>\n",
       "      <td>C</td>\n",
       "    </tr>\n",
       "    <tr>\n",
       "      <th>3</th>\n",
       "      <td>3</td>\n",
       "      <td>Chahat</td>\n",
       "      <td>22</td>\n",
       "      <td>B</td>\n",
       "    </tr>\n",
       "    <tr>\n",
       "      <th>4</th>\n",
       "      <td>4</td>\n",
       "      <td>Daniyal</td>\n",
       "      <td>24</td>\n",
       "      <td>A</td>\n",
       "    </tr>\n",
       "  </tbody>\n",
       "</table>\n",
       "</div>"
      ],
      "text/plain": [
       "   Unnamed: 0     Name  Age Grade\n",
       "0           0      Ali   20     A\n",
       "1           1    Babar   21     B\n",
       "2           2   Bashir   19     C\n",
       "3           3   Chahat   22     B\n",
       "4           4  Daniyal   24     A"
      ]
     },
     "execution_count": 22,
     "metadata": {},
     "output_type": "execute_result"
    }
   ],
   "source": [
    "pd.read_csv('./students.csv')"
   ]
  },
  {
   "cell_type": "code",
   "execution_count": 28,
   "id": "2e8ede2f",
   "metadata": {},
   "outputs": [
    {
     "name": "stdout",
     "output_type": "stream",
     "text": [
      "21.2\n",
      "21.0\n"
     ]
    }
   ],
   "source": [
    "print(df['Age'].mean())\n",
    "print(df['Age'].median())"
   ]
  },
  {
   "cell_type": "markdown",
   "id": "6672e6c9-40f3-443b-ae9e-c55030a33af4",
   "metadata": {},
   "source": [
    "# Question 2\n",
    "\n",
    "\n",
    "### Array Creation\n",
    "\n",
    "Create a Numpy array of 10 zeros and another array of 10 ones. Then, create a 3x3 identity matrix using Numpy.\n"
   ]
  },
  {
   "cell_type": "code",
   "execution_count": 48,
   "id": "ded6b0d1",
   "metadata": {},
   "outputs": [
    {
     "data": {
      "text/plain": [
       "array([[1., 0., 0.],\n",
       "       [0., 1., 0.],\n",
       "       [0., 0., 1.]])"
      ]
     },
     "execution_count": 48,
     "metadata": {},
     "output_type": "execute_result"
    }
   ],
   "source": [
    "zeros = np.array([0, 0, 0, 0, 0, 0, 0, 0, 0, 0])\n",
    "ones = np.array([1, 1, 1, 1, 1, 1, 1, 1, 1, 1])\n",
    "\n",
    "identity = np.eye(3)\n",
    "identity\n"
   ]
  },
  {
   "cell_type": "markdown",
   "id": "aecc811a-07db-4549-951e-44bb1eebaf44",
   "metadata": {},
   "source": [
    "# Question 3\n",
    "\n",
    "### Simple Line Plot\n",
    "\n",
    "Use matplotlib to plot a simple line graph. Use the x-values as [1, 2, 3, 4, 5] and y-values as [2, 4, 6, 8, 10]. Label the x-axis as \"X-axis\", the y-axis as \"Y-axis\", and give the plot a title.\n",
    "\n",
    "\n",
    "### Bar Chart\n",
    "\n",
    "Create a bar chart using matplotlib to show the scores of five students: 80, 85, 90, 75, and 95. Label each bar with the student’s name and give the chart a title.\n",
    "\n",
    "\n",
    "### Scatter Plot\n",
    "\n",
    "Generate two lists of 10 random integers between 1 and 50 using Numpy. Use matplotlib to create a scatter plot of these points, and customize it by adding labels for the x-axis and y-axis.\n"
   ]
  },
  {
   "cell_type": "code",
   "execution_count": 52,
   "id": "dd0923d7",
   "metadata": {},
   "outputs": [
    {
     "data": {
      "text/plain": [
       "Text(0, 0.5, 'Y-axis')"
      ]
     },
     "execution_count": 52,
     "metadata": {},
     "output_type": "execute_result"
    },
    {
     "data": {
      "image/png": "[encoded data removed]",
      "text/plain": [
       "<Figure size 640x480 with 1 Axes>"
      ]
     },
     "metadata": {},
     "output_type": "display_data"
    }
   ],
   "source": [
    "# Line Chart\n",
    "x_values = [1, 2, 3, 4, 5]\n",
    "y_values = [2, 4, 6, 8, 10]\n",
    "\n",
    "plt.plot(x_values, y_values)\n",
    "plt.xlabel(\"X-axis\")\n",
    "plt.ylabel(\"Y-axis\")"
   ]
  },
  {
   "cell_type": "code",
   "execution_count": 57,
   "id": "d4eb7fe1",
   "metadata": {},
   "outputs": [
    {
     "data": {
      "text/plain": [
       "Text(0.5, 1.0, \"Student's Report\")"
      ]
     },
     "execution_count": 57,
     "metadata": {},
     "output_type": "execute_result"
    },
    {
     "data": {
      "image/png": "[encoded data removed]",
      "text/plain": [
       "<Figure size 640x480 with 1 Axes>"
      ]
     },
     "metadata": {},
     "output_type": "display_data"
    }
   ],
   "source": [
    "# BarChart\n",
    "\n",
    "students = ['Alice', 'Bob', 'Charlie', 'David', 'Eve']\n",
    "scores = [80, 85, 90, 75, 95]\n",
    "\n",
    "plt.bar(students, scores)\n",
    "plt.xlabel(\"Students Names\")\n",
    "plt.ylabel(\"Marks\")\n",
    "plt.title(\"Student's Report\")\n",
    "\n"
   ]
  },
  {
   "cell_type": "code",
   "execution_count": 60,
   "id": "db492d74",
   "metadata": {},
   "outputs": [
    {
     "data": {
      "image/png": "[encoded data removed]",
      "text/plain": [
       "<Figure size 640x480 with 1 Axes>"
      ]
     },
     "metadata": {},
     "output_type": "display_data"
    }
   ],
   "source": [
    "lst_1 = [1, 44, 17, 45, 3, 16, 31, 2, 22, 8]\n",
    "lst_2 = [16, 47, 38, 21, 20, 17, 44, 41, 34, 36]\n",
    "\n",
    "plt.scatter(lst_1, lst_2)\n",
    "plt.xlabel(\"X-axis\")\n",
    "plt.ylabel(\"Y-axis\")\n",
    "plt.grid(True)"
   ]
  }
 ],
 "metadata": {
  "kernelspec": {
   "display_name": "Python 3",
   "language": "python",
   "name": "python3"
  },
  "language_info": {
   "codemirror_mode": {
    "name": "ipython",
    "version": 3
   },
   "file_extension": ".py",
   "mimetype": "text/x-python",
   "name": "python",
   "nbconvert_exporter": "python",
   "pygments_lexer": "ipython3",
   "version": "3.12.2"
  }
 },
 "nbformat": 4,
 "nbformat_minor": 5
}
